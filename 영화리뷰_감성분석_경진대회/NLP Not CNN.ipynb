{
 "cells": [
  {
   "cell_type": "code",
   "execution_count": 1,
   "metadata": {},
   "outputs": [],
   "source": [
    "import pandas as pd\n",
    "import numpy as np\n",
    "import re\n",
    "import warnings\n",
    "from konlpy.tag import Okt\n",
    "from sklearn.model_selection import train_test_split"
   ]
  },
  {
   "cell_type": "code",
   "execution_count": 106,
   "metadata": {},
   "outputs": [
    {
     "data": {
      "text/html": [
       "<div>\n",
       "<style scoped>\n",
       "    .dataframe tbody tr th:only-of-type {\n",
       "        vertical-align: middle;\n",
       "    }\n",
       "\n",
       "    .dataframe tbody tr th {\n",
       "        vertical-align: top;\n",
       "    }\n",
       "\n",
       "    .dataframe thead th {\n",
       "        text-align: right;\n",
       "    }\n",
       "</style>\n",
       "<table border=\"1\" class=\"dataframe\">\n",
       "  <thead>\n",
       "    <tr style=\"text-align: right;\">\n",
       "      <th></th>\n",
       "      <th>id</th>\n",
       "      <th>document</th>\n",
       "      <th>label</th>\n",
       "    </tr>\n",
       "  </thead>\n",
       "  <tbody>\n",
       "    <tr>\n",
       "      <th>0</th>\n",
       "      <td>1</td>\n",
       "      <td>영상이나 음악이 이쁘다 해도 미화시킨 불륜일뿐</td>\n",
       "      <td>0</td>\n",
       "    </tr>\n",
       "    <tr>\n",
       "      <th>1</th>\n",
       "      <td>2</td>\n",
       "      <td>히치콕이 이 영화를 봤다면 분명 박수를 쳤을듯...</td>\n",
       "      <td>1</td>\n",
       "    </tr>\n",
       "    <tr>\n",
       "      <th>2</th>\n",
       "      <td>3</td>\n",
       "      <td>괜찮은 음악영화가 또 나왔군요!!! 따뜻한 겨울이 될 것 같아요~</td>\n",
       "      <td>1</td>\n",
       "    </tr>\n",
       "    <tr>\n",
       "      <th>3</th>\n",
       "      <td>4</td>\n",
       "      <td>아무래도 20년도지난작품이라 지금보기는너무유치하다</td>\n",
       "      <td>0</td>\n",
       "    </tr>\n",
       "    <tr>\n",
       "      <th>4</th>\n",
       "      <td>5</td>\n",
       "      <td>지금까지의 영화들이 그랬듯. 이 영화역시 일본에 대한 미화는 여전하다.</td>\n",
       "      <td>0</td>\n",
       "    </tr>\n",
       "    <tr>\n",
       "      <th>...</th>\n",
       "      <td>...</td>\n",
       "      <td>...</td>\n",
       "      <td>...</td>\n",
       "    </tr>\n",
       "    <tr>\n",
       "      <th>4995</th>\n",
       "      <td>4996</td>\n",
       "      <td>좋은 배우들로 3류영화를 찍은 안타까운 영화</td>\n",
       "      <td>0</td>\n",
       "    </tr>\n",
       "    <tr>\n",
       "      <th>4996</th>\n",
       "      <td>4997</td>\n",
       "      <td>진짜 드럽게 재미없다 에드워드 호퍼 그림에 배경 빼고는 볼게 아닌영화</td>\n",
       "      <td>0</td>\n",
       "    </tr>\n",
       "    <tr>\n",
       "      <th>4997</th>\n",
       "      <td>4998</td>\n",
       "      <td>가장 실망스러운 영화.. 지금까지 본영화중..</td>\n",
       "      <td>0</td>\n",
       "    </tr>\n",
       "    <tr>\n",
       "      <th>4998</th>\n",
       "      <td>4999</td>\n",
       "      <td>이런 평점 테러, 네이버에서 좀 막아야 하는 것 아닌가?</td>\n",
       "      <td>1</td>\n",
       "    </tr>\n",
       "    <tr>\n",
       "      <th>4999</th>\n",
       "      <td>5000</td>\n",
       "      <td>여주인공이 전작에서는 귀여웠는데, 여기선 완전 망했네, 실망이다</td>\n",
       "      <td>0</td>\n",
       "    </tr>\n",
       "  </tbody>\n",
       "</table>\n",
       "<p>5000 rows × 3 columns</p>\n",
       "</div>"
      ],
      "text/plain": [
       "        id                                 document  label\n",
       "0        1                영상이나 음악이 이쁘다 해도 미화시킨 불륜일뿐      0\n",
       "1        2             히치콕이 이 영화를 봤다면 분명 박수를 쳤을듯...      1\n",
       "2        3     괜찮은 음악영화가 또 나왔군요!!! 따뜻한 겨울이 될 것 같아요~      1\n",
       "3        4              아무래도 20년도지난작품이라 지금보기는너무유치하다      0\n",
       "4        5  지금까지의 영화들이 그랬듯. 이 영화역시 일본에 대한 미화는 여전하다.      0\n",
       "...    ...                                      ...    ...\n",
       "4995  4996                 좋은 배우들로 3류영화를 찍은 안타까운 영화      0\n",
       "4996  4997   진짜 드럽게 재미없다 에드워드 호퍼 그림에 배경 빼고는 볼게 아닌영화      0\n",
       "4997  4998                가장 실망스러운 영화.. 지금까지 본영화중..      0\n",
       "4998  4999          이런 평점 테러, 네이버에서 좀 막아야 하는 것 아닌가?      1\n",
       "4999  5000      여주인공이 전작에서는 귀여웠는데, 여기선 완전 망했네, 실망이다      0\n",
       "\n",
       "[5000 rows x 3 columns]"
      ]
     },
     "execution_count": 106,
     "metadata": {},
     "output_type": "execute_result"
    }
   ],
   "source": [
    "df = pd.read_csv(\"./dataset/train.csv\")\n",
    "df"
   ]
  },
  {
   "cell_type": "code",
   "execution_count": 107,
   "metadata": {},
   "outputs": [
    {
     "data": {
      "text/plain": [
       "id          0\n",
       "document    0\n",
       "label       0\n",
       "dtype: int64"
      ]
     },
     "execution_count": 107,
     "metadata": {},
     "output_type": "execute_result"
    }
   ],
   "source": [
    "df.isnull().sum()"
   ]
  },
  {
   "cell_type": "code",
   "execution_count": 108,
   "metadata": {},
   "outputs": [],
   "source": [
    "df.drop('id',axis=1,inplace=True)"
   ]
  },
  {
   "cell_type": "code",
   "execution_count": 109,
   "metadata": {},
   "outputs": [],
   "source": [
    "for i in df.document:\n",
    "    if len(i)<10: \n",
    "        print(i)"
   ]
  },
  {
   "cell_type": "code",
   "execution_count": 110,
   "metadata": {},
   "outputs": [],
   "source": [
    "train, val = train_test_split(df,random_state=0,test_size=0.2)\n",
    "train.reset_index(inplace=True)\n",
    "val.reset_index(inplace=True)"
   ]
  },
  {
   "cell_type": "code",
   "execution_count": 111,
   "metadata": {
    "scrolled": false
   },
   "outputs": [],
   "source": [
    "okt = Okt()"
   ]
  },
  {
   "cell_type": "code",
   "execution_count": 112,
   "metadata": {},
   "outputs": [
    {
     "data": {
      "text/html": [
       "<div>\n",
       "<style scoped>\n",
       "    .dataframe tbody tr th:only-of-type {\n",
       "        vertical-align: middle;\n",
       "    }\n",
       "\n",
       "    .dataframe tbody tr th {\n",
       "        vertical-align: top;\n",
       "    }\n",
       "\n",
       "    .dataframe thead th {\n",
       "        text-align: right;\n",
       "    }\n",
       "</style>\n",
       "<table border=\"1\" class=\"dataframe\">\n",
       "  <thead>\n",
       "    <tr style=\"text-align: right;\">\n",
       "      <th></th>\n",
       "      <th>index</th>\n",
       "      <th>document</th>\n",
       "      <th>label</th>\n",
       "      <th>prep</th>\n",
       "    </tr>\n",
       "  </thead>\n",
       "  <tbody>\n",
       "    <tr>\n",
       "      <th>0</th>\n",
       "      <td>2913</td>\n",
       "      <td>우리 모두가 이들처럼 산다면 한국교회는 소망이 넘칠 것....반성합니다</td>\n",
       "      <td>1</td>\n",
       "      <td>우리 모두가 이들처럼 산다면 한국교회는 소망이 넘칠 것 반성합니다</td>\n",
       "    </tr>\n",
       "    <tr>\n",
       "      <th>1</th>\n",
       "      <td>3275</td>\n",
       "      <td>장백지를 좋아하게됐던 영화. 판타지애정물의 시초가 된 영화. 마이 슬퍼~</td>\n",
       "      <td>1</td>\n",
       "      <td>장백지를 좋아하게됐던 영화 판타지애정물의 시초가 된 영화 마이 슬퍼</td>\n",
       "    </tr>\n",
       "    <tr>\n",
       "      <th>2</th>\n",
       "      <td>775</td>\n",
       "      <td>정말 감탄사만 나온다.. 꼭 봐라 두번봐라!</td>\n",
       "      <td>1</td>\n",
       "      <td>정말 감탄사만 나온다 꼭 봐라 두번봐라</td>\n",
       "    </tr>\n",
       "    <tr>\n",
       "      <th>3</th>\n",
       "      <td>217</td>\n",
       "      <td>이건 뭐야,책이 낫다... 이거 보지마셈</td>\n",
       "      <td>0</td>\n",
       "      <td>이건 뭐야 책이 낫다 이거 보지마셈</td>\n",
       "    </tr>\n",
       "    <tr>\n",
       "      <th>4</th>\n",
       "      <td>1245</td>\n",
       "      <td>끝도 허무하다.뻔한 결말을 왜 봐? 아-_-돈내나</td>\n",
       "      <td>0</td>\n",
       "      <td>끝도 허무하다 뻔한 결말을 왜 봐 아 돈내나</td>\n",
       "    </tr>\n",
       "  </tbody>\n",
       "</table>\n",
       "</div>"
      ],
      "text/plain": [
       "   index                                  document  label  \\\n",
       "0   2913   우리 모두가 이들처럼 산다면 한국교회는 소망이 넘칠 것....반성합니다      1   \n",
       "1   3275  장백지를 좋아하게됐던 영화. 판타지애정물의 시초가 된 영화. 마이 슬퍼~      1   \n",
       "2    775                  정말 감탄사만 나온다.. 꼭 봐라 두번봐라!      1   \n",
       "3    217                    이건 뭐야,책이 낫다... 이거 보지마셈      0   \n",
       "4   1245               끝도 허무하다.뻔한 결말을 왜 봐? 아-_-돈내나      0   \n",
       "\n",
       "                                     prep  \n",
       "0    우리 모두가 이들처럼 산다면 한국교회는 소망이 넘칠 것 반성합니다  \n",
       "1  장백지를 좋아하게됐던 영화 판타지애정물의 시초가 된 영화 마이 슬퍼   \n",
       "2                  정말 감탄사만 나온다 꼭 봐라 두번봐라   \n",
       "3                     이건 뭐야 책이 낫다 이거 보지마셈  \n",
       "4                끝도 허무하다 뻔한 결말을 왜 봐 아 돈내나  "
      ]
     },
     "execution_count": 112,
     "metadata": {},
     "output_type": "execute_result"
    }
   ],
   "source": [
    "train['prep'] = train['document'].str.replace(\"[^ㄱ-ㅎㅏ-ㅣ가-힣0-9]\",\" \")\n",
    "train['prep'] = train['prep'].str.replace(\" +\",\" \")\n",
    "train.head()"
   ]
  },
  {
   "cell_type": "code",
   "execution_count": 113,
   "metadata": {},
   "outputs": [
    {
     "data": {
      "text/html": [
       "<div>\n",
       "<style scoped>\n",
       "    .dataframe tbody tr th:only-of-type {\n",
       "        vertical-align: middle;\n",
       "    }\n",
       "\n",
       "    .dataframe tbody tr th {\n",
       "        vertical-align: top;\n",
       "    }\n",
       "\n",
       "    .dataframe thead th {\n",
       "        text-align: right;\n",
       "    }\n",
       "</style>\n",
       "<table border=\"1\" class=\"dataframe\">\n",
       "  <thead>\n",
       "    <tr style=\"text-align: right;\">\n",
       "      <th></th>\n",
       "      <th>index</th>\n",
       "      <th>document</th>\n",
       "      <th>label</th>\n",
       "      <th>prep</th>\n",
       "      <th>main_mor</th>\n",
       "    </tr>\n",
       "  </thead>\n",
       "  <tbody>\n",
       "    <tr>\n",
       "      <th>0</th>\n",
       "      <td>2913</td>\n",
       "      <td>우리 모두가 이들처럼 산다면 한국교회는 소망이 넘칠 것....반성합니다</td>\n",
       "      <td>1</td>\n",
       "      <td>우리 모두가 이들처럼 산다면 한국교회는 소망이 넘칠 것 반성합니다</td>\n",
       "      <td>우리 모두 처럼 산다 면 한국 교회 소망 넘치다 것 반성</td>\n",
       "    </tr>\n",
       "    <tr>\n",
       "      <th>1</th>\n",
       "      <td>3275</td>\n",
       "      <td>장백지를 좋아하게됐던 영화. 판타지애정물의 시초가 된 영화. 마이 슬퍼~</td>\n",
       "      <td>1</td>\n",
       "      <td>장백지를 좋아하게됐던 영화 판타지애정물의 시초가 된 영화 마이 슬퍼</td>\n",
       "      <td>장백지 좋아하다 돼다 영화 판타지 애정 물의 시초 되다 영화 마이 슬프다</td>\n",
       "    </tr>\n",
       "    <tr>\n",
       "      <th>2</th>\n",
       "      <td>775</td>\n",
       "      <td>정말 감탄사만 나온다.. 꼭 봐라 두번봐라!</td>\n",
       "      <td>1</td>\n",
       "      <td>정말 감탄사만 나온다 꼭 봐라 두번봐라</td>\n",
       "      <td>정말 감탄사 만 나오다 꼭 보다 두 번 보다</td>\n",
       "    </tr>\n",
       "    <tr>\n",
       "      <th>3</th>\n",
       "      <td>217</td>\n",
       "      <td>이건 뭐야,책이 낫다... 이거 보지마셈</td>\n",
       "      <td>0</td>\n",
       "      <td>이건 뭐야 책이 낫다 이거 보지마셈</td>\n",
       "      <td>이건 뭐 야 책 낫다 보다</td>\n",
       "    </tr>\n",
       "    <tr>\n",
       "      <th>4</th>\n",
       "      <td>1245</td>\n",
       "      <td>끝도 허무하다.뻔한 결말을 왜 봐? 아-_-돈내나</td>\n",
       "      <td>0</td>\n",
       "      <td>끝도 허무하다 뻔한 결말을 왜 봐 아 돈내나</td>\n",
       "      <td>끝 허무하다 뻔하다 결말 왜 보다 아 돈 내 나</td>\n",
       "    </tr>\n",
       "  </tbody>\n",
       "</table>\n",
       "</div>"
      ],
      "text/plain": [
       "   index                                  document  label  \\\n",
       "0   2913   우리 모두가 이들처럼 산다면 한국교회는 소망이 넘칠 것....반성합니다      1   \n",
       "1   3275  장백지를 좋아하게됐던 영화. 판타지애정물의 시초가 된 영화. 마이 슬퍼~      1   \n",
       "2    775                  정말 감탄사만 나온다.. 꼭 봐라 두번봐라!      1   \n",
       "3    217                    이건 뭐야,책이 낫다... 이거 보지마셈      0   \n",
       "4   1245               끝도 허무하다.뻔한 결말을 왜 봐? 아-_-돈내나      0   \n",
       "\n",
       "                                     prep  \\\n",
       "0    우리 모두가 이들처럼 산다면 한국교회는 소망이 넘칠 것 반성합니다   \n",
       "1  장백지를 좋아하게됐던 영화 판타지애정물의 시초가 된 영화 마이 슬퍼    \n",
       "2                  정말 감탄사만 나온다 꼭 봐라 두번봐라    \n",
       "3                     이건 뭐야 책이 낫다 이거 보지마셈   \n",
       "4                끝도 허무하다 뻔한 결말을 왜 봐 아 돈내나   \n",
       "\n",
       "                                   main_mor  \n",
       "0           우리 모두 처럼 산다 면 한국 교회 소망 넘치다 것 반성  \n",
       "1  장백지 좋아하다 돼다 영화 판타지 애정 물의 시초 되다 영화 마이 슬프다  \n",
       "2                  정말 감탄사 만 나오다 꼭 보다 두 번 보다  \n",
       "3                            이건 뭐 야 책 낫다 보다  \n",
       "4                끝 허무하다 뻔하다 결말 왜 보다 아 돈 내 나  "
      ]
     },
     "execution_count": 113,
     "metadata": {},
     "output_type": "execute_result"
    }
   ],
   "source": [
    "main_mor = []\n",
    "stop_words = ['의','가','이','은','들','는','걍','과','들','걍','과','으로','도','을','를','으로','자','에','와','한','하다','에서','에게','셈','슴','거']\n",
    "for sentence in train['prep']: \n",
    "    mor = okt.morphs(sentence, stem=True)\n",
    "    token = [t for t in mor if t not in stop_words]\n",
    "    tokenmor = \" \".join(token)\n",
    "    main_mor.append(tokenmor) \n",
    "train[\"main_mor\"] = pd.DataFrame(main_mor)\n",
    "#main_pos = 전처리 x 사용\n",
    "train.head()"
   ]
  },
  {
   "cell_type": "code",
   "execution_count": 114,
   "metadata": {},
   "outputs": [
    {
     "data": {
      "text/plain": [
       "'\\nmain_pos = [] \\nfor sentence in train[\\'document\\']: \\n    pos = okt.pos(sentence,stem=True)\\n    main_words = [word_pos[0] for word_pos in pos if word_pos[1] in (\"Noun\", \"Adverb\", \"Adjective\", \"Verb\")]\\n    main_words_str = \" \".join(main_words)\\n    main_pos.append(main_words_str) \\ntrain[\"main_pos\"] = pd.DataFrame(main_pos)\\n#main_pos = 전처리 x 사용\\ntrain.head()\\n'"
      ]
     },
     "execution_count": 114,
     "metadata": {},
     "output_type": "execute_result"
    }
   ],
   "source": [
    "'''\n",
    "main_pos = [] \n",
    "for sentence in train['document']: \n",
    "    pos = okt.pos(sentence,stem=True)\n",
    "    main_words = [word_pos[0] for word_pos in pos if word_pos[1] in (\"Noun\", \"Adverb\", \"Adjective\", \"Verb\")]\n",
    "    main_words_str = \" \".join(main_words)\n",
    "    main_pos.append(main_words_str) \n",
    "train[\"main_pos\"] = pd.DataFrame(main_pos)\n",
    "#main_pos = 전처리 x 사용\n",
    "train.head()\n",
    "'''"
   ]
  },
  {
   "cell_type": "code",
   "execution_count": 187,
   "metadata": {},
   "outputs": [],
   "source": [
    "x_train = train.main_mor\n",
    "y_train = train.label"
   ]
  },
  {
   "cell_type": "markdown",
   "metadata": {},
   "source": [
    "# Tfidf"
   ]
  },
  {
   "cell_type": "code",
   "execution_count": 188,
   "metadata": {},
   "outputs": [],
   "source": [
    "from sklearn.feature_extraction.text import TfidfVectorizer\n",
    "\n",
    "vectorizer = TfidfVectorizer(min_df=2,sublinear_tf=True,max_features=8700,ngram_range=(1, 3),analyzer=\"char\")\n",
    "x_train = vectorizer.fit_transform(x_train)\n",
    "#x_val = vectorizer.transform(x_val)"
   ]
  },
  {
   "cell_type": "code",
   "execution_count": 117,
   "metadata": {},
   "outputs": [
    {
     "data": {
      "text/plain": [
       "<1x9800 sparse matrix of type '<class 'numpy.float64'>'\n",
       "\twith 72 stored elements in Compressed Sparse Row format>"
      ]
     },
     "execution_count": 117,
     "metadata": {},
     "output_type": "execute_result"
    }
   ],
   "source": [
    "x_train[1]"
   ]
  },
  {
   "cell_type": "markdown",
   "metadata": {},
   "source": [
    "# VAl set 전처리"
   ]
  },
  {
   "cell_type": "code",
   "execution_count": 138,
   "metadata": {},
   "outputs": [
    {
     "data": {
      "text/html": [
       "<div>\n",
       "<style scoped>\n",
       "    .dataframe tbody tr th:only-of-type {\n",
       "        vertical-align: middle;\n",
       "    }\n",
       "\n",
       "    .dataframe tbody tr th {\n",
       "        vertical-align: top;\n",
       "    }\n",
       "\n",
       "    .dataframe thead th {\n",
       "        text-align: right;\n",
       "    }\n",
       "</style>\n",
       "<table border=\"1\" class=\"dataframe\">\n",
       "  <thead>\n",
       "    <tr style=\"text-align: right;\">\n",
       "      <th></th>\n",
       "      <th>index</th>\n",
       "      <th>document</th>\n",
       "      <th>label</th>\n",
       "      <th>prep</th>\n",
       "      <th>main_mor</th>\n",
       "      <th>main_pos</th>\n",
       "    </tr>\n",
       "  </thead>\n",
       "  <tbody>\n",
       "    <tr>\n",
       "      <th>0</th>\n",
       "      <td>398</td>\n",
       "      <td>평점 왜이렇게낮나요? 너무사랑스러운 로맨스영화.. 재미있어요 ~~~</td>\n",
       "      <td>1</td>\n",
       "      <td>평점 왜이렇게낮나요 너무사랑스러운 로맨스영화 재미있어요</td>\n",
       "      <td>평점 왜 이렇게 낮다 너무 사랑스럽다 로맨스영화 재미있다</td>\n",
       "      <td>평점 왜 이렇게 낮다 너무 사랑스럽다 로맨스영화 재미있다</td>\n",
       "    </tr>\n",
       "    <tr>\n",
       "      <th>1</th>\n",
       "      <td>3833</td>\n",
       "      <td>예상 불가 대박 반전 최고최고</td>\n",
       "      <td>1</td>\n",
       "      <td>예상 불가 대박 반전 최고최고</td>\n",
       "      <td>예상 불가 대박 반전 최고 최고</td>\n",
       "      <td>예상 불가 대박 반전 최고 최고</td>\n",
       "    </tr>\n",
       "    <tr>\n",
       "      <th>2</th>\n",
       "      <td>4836</td>\n",
       "      <td>Ost가우선너무아름답고좋았구여내용도기가막혔습ㄴ다</td>\n",
       "      <td>1</td>\n",
       "      <td>가우선너무아름답고좋았구여내용도기가막혔습ㄴ다</td>\n",
       "      <td>가다 우선 너무 아름답다 좋다 내용 도기 막히다 습 ㄴ 다</td>\n",
       "      <td>가다 우선 너무 아름답다 좋다 내용 도기 막히다 습 다</td>\n",
       "    </tr>\n",
       "    <tr>\n",
       "      <th>3</th>\n",
       "      <td>4572</td>\n",
       "      <td>긴박한 영화속 인물들, 하품과 한숨만 나오는 관객</td>\n",
       "      <td>0</td>\n",
       "      <td>긴박한 영화속 인물들 하품과 한숨만 나오는 관객</td>\n",
       "      <td>긴박하다 영화 속 인물 하품 한숨 만 나오다 관객</td>\n",
       "      <td>긴박하다 영화 속 인물 하품 한숨 나오다 관객</td>\n",
       "    </tr>\n",
       "    <tr>\n",
       "      <th>4</th>\n",
       "      <td>636</td>\n",
       "      <td>살짝 어두워지기 시작하는 부분.. 하지만 여전히 좋다!</td>\n",
       "      <td>1</td>\n",
       "      <td>살짝 어두워지기 시작하는 부분 하지만 여전히 좋다</td>\n",
       "      <td>살짝 어두워지다 시작 부분 하지만 여전하다 좋다</td>\n",
       "      <td>살짝 어두워지다 시작 하다 부분 여전하다 좋다</td>\n",
       "    </tr>\n",
       "  </tbody>\n",
       "</table>\n",
       "</div>"
      ],
      "text/plain": [
       "   index                               document  label  \\\n",
       "0    398  평점 왜이렇게낮나요? 너무사랑스러운 로맨스영화.. 재미있어요 ~~~      1   \n",
       "1   3833                       예상 불가 대박 반전 최고최고      1   \n",
       "2   4836             Ost가우선너무아름답고좋았구여내용도기가막혔습ㄴ다      1   \n",
       "3   4572            긴박한 영화속 인물들, 하품과 한숨만 나오는 관객      0   \n",
       "4    636         살짝 어두워지기 시작하는 부분.. 하지만 여전히 좋다!      1   \n",
       "\n",
       "                              prep                          main_mor  \\\n",
       "0  평점 왜이렇게낮나요 너무사랑스러운 로맨스영화 재미있어요    평점 왜 이렇게 낮다 너무 사랑스럽다 로맨스영화 재미있다   \n",
       "1                 예상 불가 대박 반전 최고최고                 예상 불가 대박 반전 최고 최고   \n",
       "2          가우선너무아름답고좋았구여내용도기가막혔습ㄴ다  가다 우선 너무 아름답다 좋다 내용 도기 막히다 습 ㄴ 다   \n",
       "3       긴박한 영화속 인물들 하품과 한숨만 나오는 관객       긴박하다 영화 속 인물 하품 한숨 만 나오다 관객   \n",
       "4     살짝 어두워지기 시작하는 부분 하지만 여전히 좋다         살짝 어두워지다 시작 부분 하지만 여전하다 좋다   \n",
       "\n",
       "                          main_pos  \n",
       "0  평점 왜 이렇게 낮다 너무 사랑스럽다 로맨스영화 재미있다  \n",
       "1                예상 불가 대박 반전 최고 최고  \n",
       "2   가다 우선 너무 아름답다 좋다 내용 도기 막히다 습 다  \n",
       "3        긴박하다 영화 속 인물 하품 한숨 나오다 관객  \n",
       "4        살짝 어두워지다 시작 하다 부분 여전하다 좋다  "
      ]
     },
     "execution_count": 138,
     "metadata": {},
     "output_type": "execute_result"
    }
   ],
   "source": [
    "val['prep'] = val['document'].str.replace(\"[^ㄱ-ㅎㅏ-ㅣ가-힣0-9]\",\" \")\n",
    "val['prep'] = val['prep'].str.replace(\" +\",\" \")\n",
    "val.head()"
   ]
  },
  {
   "cell_type": "code",
   "execution_count": 139,
   "metadata": {},
   "outputs": [
    {
     "data": {
      "text/html": [
       "<div>\n",
       "<style scoped>\n",
       "    .dataframe tbody tr th:only-of-type {\n",
       "        vertical-align: middle;\n",
       "    }\n",
       "\n",
       "    .dataframe tbody tr th {\n",
       "        vertical-align: top;\n",
       "    }\n",
       "\n",
       "    .dataframe thead th {\n",
       "        text-align: right;\n",
       "    }\n",
       "</style>\n",
       "<table border=\"1\" class=\"dataframe\">\n",
       "  <thead>\n",
       "    <tr style=\"text-align: right;\">\n",
       "      <th></th>\n",
       "      <th>index</th>\n",
       "      <th>document</th>\n",
       "      <th>label</th>\n",
       "      <th>prep</th>\n",
       "      <th>main_mor</th>\n",
       "      <th>main_pos</th>\n",
       "    </tr>\n",
       "  </thead>\n",
       "  <tbody>\n",
       "    <tr>\n",
       "      <th>0</th>\n",
       "      <td>398</td>\n",
       "      <td>평점 왜이렇게낮나요? 너무사랑스러운 로맨스영화.. 재미있어요 ~~~</td>\n",
       "      <td>1</td>\n",
       "      <td>평점 왜이렇게낮나요 너무사랑스러운 로맨스영화 재미있어요</td>\n",
       "      <td>평점 왜 이렇게 낮다 너무 사랑스럽다 로맨스영화 재미있다</td>\n",
       "      <td>평점 왜 이렇게 낮다 너무 사랑스럽다 로맨스영화 재미있다</td>\n",
       "    </tr>\n",
       "    <tr>\n",
       "      <th>1</th>\n",
       "      <td>3833</td>\n",
       "      <td>예상 불가 대박 반전 최고최고</td>\n",
       "      <td>1</td>\n",
       "      <td>예상 불가 대박 반전 최고최고</td>\n",
       "      <td>예상 불가 대박 반전 최고 최고</td>\n",
       "      <td>예상 불가 대박 반전 최고 최고</td>\n",
       "    </tr>\n",
       "    <tr>\n",
       "      <th>2</th>\n",
       "      <td>4836</td>\n",
       "      <td>Ost가우선너무아름답고좋았구여내용도기가막혔습ㄴ다</td>\n",
       "      <td>1</td>\n",
       "      <td>가우선너무아름답고좋았구여내용도기가막혔습ㄴ다</td>\n",
       "      <td>가다 우선 너무 아름답다 좋다 내용 도기 막히다 습 ㄴ 다</td>\n",
       "      <td>가다 우선 너무 아름답다 좋다 내용 도기 막히다 습 다</td>\n",
       "    </tr>\n",
       "    <tr>\n",
       "      <th>3</th>\n",
       "      <td>4572</td>\n",
       "      <td>긴박한 영화속 인물들, 하품과 한숨만 나오는 관객</td>\n",
       "      <td>0</td>\n",
       "      <td>긴박한 영화속 인물들 하품과 한숨만 나오는 관객</td>\n",
       "      <td>긴박하다 영화 속 인물 하품 한숨 만 나오다 관객</td>\n",
       "      <td>긴박하다 영화 속 인물 하품 한숨 나오다 관객</td>\n",
       "    </tr>\n",
       "    <tr>\n",
       "      <th>4</th>\n",
       "      <td>636</td>\n",
       "      <td>살짝 어두워지기 시작하는 부분.. 하지만 여전히 좋다!</td>\n",
       "      <td>1</td>\n",
       "      <td>살짝 어두워지기 시작하는 부분 하지만 여전히 좋다</td>\n",
       "      <td>살짝 어두워지다 시작 부분 하지만 여전하다 좋다</td>\n",
       "      <td>살짝 어두워지다 시작 하다 부분 여전하다 좋다</td>\n",
       "    </tr>\n",
       "  </tbody>\n",
       "</table>\n",
       "</div>"
      ],
      "text/plain": [
       "   index                               document  label  \\\n",
       "0    398  평점 왜이렇게낮나요? 너무사랑스러운 로맨스영화.. 재미있어요 ~~~      1   \n",
       "1   3833                       예상 불가 대박 반전 최고최고      1   \n",
       "2   4836             Ost가우선너무아름답고좋았구여내용도기가막혔습ㄴ다      1   \n",
       "3   4572            긴박한 영화속 인물들, 하품과 한숨만 나오는 관객      0   \n",
       "4    636         살짝 어두워지기 시작하는 부분.. 하지만 여전히 좋다!      1   \n",
       "\n",
       "                              prep                          main_mor  \\\n",
       "0  평점 왜이렇게낮나요 너무사랑스러운 로맨스영화 재미있어요    평점 왜 이렇게 낮다 너무 사랑스럽다 로맨스영화 재미있다   \n",
       "1                 예상 불가 대박 반전 최고최고                 예상 불가 대박 반전 최고 최고   \n",
       "2          가우선너무아름답고좋았구여내용도기가막혔습ㄴ다  가다 우선 너무 아름답다 좋다 내용 도기 막히다 습 ㄴ 다   \n",
       "3       긴박한 영화속 인물들 하품과 한숨만 나오는 관객       긴박하다 영화 속 인물 하품 한숨 만 나오다 관객   \n",
       "4     살짝 어두워지기 시작하는 부분 하지만 여전히 좋다         살짝 어두워지다 시작 부분 하지만 여전하다 좋다   \n",
       "\n",
       "                          main_pos  \n",
       "0  평점 왜 이렇게 낮다 너무 사랑스럽다 로맨스영화 재미있다  \n",
       "1                예상 불가 대박 반전 최고 최고  \n",
       "2   가다 우선 너무 아름답다 좋다 내용 도기 막히다 습 다  \n",
       "3        긴박하다 영화 속 인물 하품 한숨 나오다 관객  \n",
       "4        살짝 어두워지다 시작 하다 부분 여전하다 좋다  "
      ]
     },
     "execution_count": 139,
     "metadata": {},
     "output_type": "execute_result"
    }
   ],
   "source": [
    "val_main_mor = []\n",
    "for sentence in val['prep']: \n",
    "    mor = okt.morphs(sentence,stem=True)\n",
    "    token = [t for t in mor if t not in stop_words]\n",
    "    tokenmor = \" \".join(token)\n",
    "    val_main_mor.append(tokenmor) \n",
    "val[\"main_mor\"] = pd.DataFrame(val_main_mor)\n",
    "#main_pos = 전처리 x 사용\n",
    "val.head()"
   ]
  },
  {
   "cell_type": "code",
   "execution_count": 120,
   "metadata": {},
   "outputs": [
    {
     "data": {
      "text/html": [
       "<div>\n",
       "<style scoped>\n",
       "    .dataframe tbody tr th:only-of-type {\n",
       "        vertical-align: middle;\n",
       "    }\n",
       "\n",
       "    .dataframe tbody tr th {\n",
       "        vertical-align: top;\n",
       "    }\n",
       "\n",
       "    .dataframe thead th {\n",
       "        text-align: right;\n",
       "    }\n",
       "</style>\n",
       "<table border=\"1\" class=\"dataframe\">\n",
       "  <thead>\n",
       "    <tr style=\"text-align: right;\">\n",
       "      <th></th>\n",
       "      <th>index</th>\n",
       "      <th>document</th>\n",
       "      <th>label</th>\n",
       "      <th>prep</th>\n",
       "      <th>main_mor</th>\n",
       "      <th>main_pos</th>\n",
       "    </tr>\n",
       "  </thead>\n",
       "  <tbody>\n",
       "    <tr>\n",
       "      <th>0</th>\n",
       "      <td>398</td>\n",
       "      <td>평점 왜이렇게낮나요? 너무사랑스러운 로맨스영화.. 재미있어요 ~~~</td>\n",
       "      <td>1</td>\n",
       "      <td>평점 왜이렇게낮나요 너무사랑스러운 로맨스영화 재미있어요</td>\n",
       "      <td>평점 왜 이렇게 낮다 너무 사랑스럽다 로맨스영화 재미있다</td>\n",
       "      <td>평점 왜 이렇게 낮다 너무 사랑스럽다 로맨스영화 재미있다</td>\n",
       "    </tr>\n",
       "    <tr>\n",
       "      <th>1</th>\n",
       "      <td>3833</td>\n",
       "      <td>예상 불가 대박 반전 최고최고</td>\n",
       "      <td>1</td>\n",
       "      <td>예상 불가 대박 반전 최고최고</td>\n",
       "      <td>예상 불가 대박 반전 최고 최고</td>\n",
       "      <td>예상 불가 대박 반전 최고 최고</td>\n",
       "    </tr>\n",
       "    <tr>\n",
       "      <th>2</th>\n",
       "      <td>4836</td>\n",
       "      <td>Ost가우선너무아름답고좋았구여내용도기가막혔습ㄴ다</td>\n",
       "      <td>1</td>\n",
       "      <td>가우선너무아름답고좋았구여내용도기가막혔습ㄴ다</td>\n",
       "      <td>가다 우선 너무 아름답다 좋다 내용 도기 막히다 습 ㄴ 다</td>\n",
       "      <td>가다 우선 너무 아름답다 좋다 내용 도기 막히다 습 다</td>\n",
       "    </tr>\n",
       "    <tr>\n",
       "      <th>3</th>\n",
       "      <td>4572</td>\n",
       "      <td>긴박한 영화속 인물들, 하품과 한숨만 나오는 관객</td>\n",
       "      <td>0</td>\n",
       "      <td>긴박한 영화속 인물들 하품과 한숨만 나오는 관객</td>\n",
       "      <td>긴박하다 영화 속 인물 하품 한숨 만 나오다 관객</td>\n",
       "      <td>긴박하다 영화 속 인물 하품 한숨 나오다 관객</td>\n",
       "    </tr>\n",
       "    <tr>\n",
       "      <th>4</th>\n",
       "      <td>636</td>\n",
       "      <td>살짝 어두워지기 시작하는 부분.. 하지만 여전히 좋다!</td>\n",
       "      <td>1</td>\n",
       "      <td>살짝 어두워지기 시작하는 부분 하지만 여전히 좋다</td>\n",
       "      <td>살짝 어두워지다 시작 부분 하지만 여전하다 좋다</td>\n",
       "      <td>살짝 어두워지다 시작 하다 부분 여전하다 좋다</td>\n",
       "    </tr>\n",
       "  </tbody>\n",
       "</table>\n",
       "</div>"
      ],
      "text/plain": [
       "   index                               document  label  \\\n",
       "0    398  평점 왜이렇게낮나요? 너무사랑스러운 로맨스영화.. 재미있어요 ~~~      1   \n",
       "1   3833                       예상 불가 대박 반전 최고최고      1   \n",
       "2   4836             Ost가우선너무아름답고좋았구여내용도기가막혔습ㄴ다      1   \n",
       "3   4572            긴박한 영화속 인물들, 하품과 한숨만 나오는 관객      0   \n",
       "4    636         살짝 어두워지기 시작하는 부분.. 하지만 여전히 좋다!      1   \n",
       "\n",
       "                              prep                          main_mor  \\\n",
       "0  평점 왜이렇게낮나요 너무사랑스러운 로맨스영화 재미있어요    평점 왜 이렇게 낮다 너무 사랑스럽다 로맨스영화 재미있다   \n",
       "1                 예상 불가 대박 반전 최고최고                 예상 불가 대박 반전 최고 최고   \n",
       "2          가우선너무아름답고좋았구여내용도기가막혔습ㄴ다  가다 우선 너무 아름답다 좋다 내용 도기 막히다 습 ㄴ 다   \n",
       "3       긴박한 영화속 인물들 하품과 한숨만 나오는 관객       긴박하다 영화 속 인물 하품 한숨 만 나오다 관객   \n",
       "4     살짝 어두워지기 시작하는 부분 하지만 여전히 좋다         살짝 어두워지다 시작 부분 하지만 여전하다 좋다   \n",
       "\n",
       "                          main_pos  \n",
       "0  평점 왜 이렇게 낮다 너무 사랑스럽다 로맨스영화 재미있다  \n",
       "1                예상 불가 대박 반전 최고 최고  \n",
       "2   가다 우선 너무 아름답다 좋다 내용 도기 막히다 습 다  \n",
       "3        긴박하다 영화 속 인물 하품 한숨 나오다 관객  \n",
       "4        살짝 어두워지다 시작 하다 부분 여전하다 좋다  "
      ]
     },
     "execution_count": 120,
     "metadata": {},
     "output_type": "execute_result"
    }
   ],
   "source": [
    "val_main_pos = [] \n",
    "for sentence in val['document']: \n",
    "    pos = okt.pos(sentence,stem=True)\n",
    "    main_words = [word_pos[0] for word_pos in pos if word_pos[1] in (\"Noun\", \"Adverb\", \"Adjective\", \"Verb\")]\n",
    "    main_words_str = \" \".join(main_words)\n",
    "    val_main_pos.append(main_words_str) \n",
    "val[\"main_pos\"] = pd.DataFrame(val_main_pos)\n",
    "#main_pos = 전처리 x 사용\n",
    "val.head()"
   ]
  },
  {
   "cell_type": "code",
   "execution_count": 189,
   "metadata": {},
   "outputs": [],
   "source": [
    "x_val = val.main_mor\n",
    "y_val = val.label"
   ]
  },
  {
   "cell_type": "code",
   "execution_count": 190,
   "metadata": {},
   "outputs": [],
   "source": [
    "x_val = vectorizer.transform(x_val)"
   ]
  },
  {
   "cell_type": "code",
   "execution_count": 123,
   "metadata": {},
   "outputs": [
    {
     "data": {
      "text/plain": [
       "<1000x9800 sparse matrix of type '<class 'numpy.float64'>'\n",
       "\twith 50789 stored elements in Compressed Sparse Row format>"
      ]
     },
     "execution_count": 123,
     "metadata": {},
     "output_type": "execute_result"
    }
   ],
   "source": [
    "x_val"
   ]
  },
  {
   "cell_type": "markdown",
   "metadata": {},
   "source": [
    "# MODEL"
   ]
  },
  {
   "cell_type": "code",
   "execution_count": 124,
   "metadata": {},
   "outputs": [],
   "source": [
    "from sklearn.metrics import accuracy_score,f1_score,roc_auc_score,confusion_matrix"
   ]
  },
  {
   "cell_type": "code",
   "execution_count": 125,
   "metadata": {},
   "outputs": [],
   "source": [
    "def print_score(pred,y_val):\n",
    "    acc = accuracy_score(y_val,pred)\n",
    "    f1 = f1_score(y_val,pred)\n",
    "    auc = roc_auc_score(y_val,pred)\n",
    "    con = confusion_matrix(y_val,pred)\n",
    "    \n",
    "    print(\"acc : \",acc, \"f1 : \",f1, \"auc\",auc)\n",
    "    print(con)"
   ]
  },
  {
   "cell_type": "code",
   "execution_count": 126,
   "metadata": {},
   "outputs": [
    {
     "name": "stdout",
     "output_type": "stream",
     "text": [
      "acc :  0.823 f1 :  0.8065573770491803 auc 0.8208034628978099\n",
      "[[454  73]\n",
      " [104 369]]\n"
     ]
    }
   ],
   "source": [
    "from lightgbm import LGBMClassifier\n",
    "lmodel = LGBMClassifier(max_depth=8,learning_rate=0.1,min_child_samples=5)\n",
    "lmodel.fit(x_train,y_train)\n",
    "pred = lmodel.predict(x_val)\n",
    "print_score(pred,y_val)"
   ]
  },
  {
   "cell_type": "code",
   "execution_count": 127,
   "metadata": {},
   "outputs": [
    {
     "name": "stdout",
     "output_type": "stream",
     "text": [
      "acc :  0.815 f1 :  0.7986942328618063 auc 0.8129966983724541\n",
      "[[448  79]\n",
      " [106 367]]\n"
     ]
    }
   ],
   "source": [
    "from sklearn.ensemble import RandomForestClassifier\n",
    "\n",
    "rf_model = RandomForestClassifier()\n",
    "rf_model.fit(x_train,y_train)\n",
    "pred = rf_model.predict(x_val)\n",
    "print_score(pred,y_val)"
   ]
  },
  {
   "cell_type": "code",
   "execution_count": 191,
   "metadata": {
    "scrolled": true
   },
   "outputs": [
    {
     "name": "stdout",
     "output_type": "stream",
     "text": [
      "299  acc :  0.865\n"
     ]
    }
   ],
   "source": [
    "from sklearn.linear_model import LogisticRegression\n",
    "\n",
    "lg_model = LogisticRegression(C=13,solver='liblinear')\n",
    "lg_model.fit(x_train,y_train)\n",
    "pred = lg_model.predict(x_val)\n",
    "print(i,\" acc : \", round(accuracy_score(y_val,pred),3))"
   ]
  },
  {
   "cell_type": "code",
   "execution_count": 212,
   "metadata": {},
   "outputs": [
    {
     "name": "stdout",
     "output_type": "stream",
     "text": [
      "acc :  0.866 f1 :  0.8589473684210526 auc 0.8658247449562926\n",
      "[[458  69]\n",
      " [ 65 408]]\n"
     ]
    }
   ],
   "source": [
    "from sklearn.naive_bayes import BernoulliNB\n",
    "from sklearn.linear_model import SGDClassifier\n",
    "\n",
    "nb_model = BernoulliNB()\n",
    "nb_model.fit(x_train,y_train)\n",
    "pred = nb_model.predict(x_val)\n",
    "print_score(pred,y_val)\n"
   ]
  },
  {
   "cell_type": "code",
   "execution_count": 216,
   "metadata": {},
   "outputs": [
    {
     "name": "stdout",
     "output_type": "stream",
     "text": [
      "99 0.856\n"
     ]
    }
   ],
   "source": [
    "sgd = SGDClassifier(random_state=1,loss='modified_huber')\n",
    "sgd.fit(x_train,y_train)\n",
    "pred = sgd.predict(x_val)\n",
    "print(i,accuracy_score(y_val,pred))"
   ]
  },
  {
   "cell_type": "code",
   "execution_count": 217,
   "metadata": {},
   "outputs": [
    {
     "name": "stdout",
     "output_type": "stream",
     "text": [
      "acc :  0.871 f1 :  0.8634920634920636 auc 0.8705685779733703\n",
      "[[463  64]\n",
      " [ 65 408]]\n",
      "acc :  0.865 f1 :  0.8577449947312962 auc 0.8647676625038613\n",
      "[[458  69]\n",
      " [ 66 407]]\n"
     ]
    }
   ],
   "source": [
    "from sklearn.ensemble import VotingClassifier\n",
    "\n",
    "models = [('nb',nb_model), ('log',lg_model), ('sgd',sgd)]\n",
    "\n",
    "hvc = VotingClassifier(estimators=models, voting='hard')\n",
    "svc = VotingClassifier(estimators=models, voting='soft')\n",
    "hvc.fit(x_train,y_train)\n",
    "svc.fit(x_train,y_train)\n",
    "print_score(hvc.predict(x_val),y_val)\n",
    "print_score(svc.predict(x_val),y_val)"
   ]
  },
  {
   "cell_type": "code",
   "execution_count": 129,
   "metadata": {},
   "outputs": [
    {
     "data": {
      "text/html": [
       "<div>\n",
       "<style scoped>\n",
       "    .dataframe tbody tr th:only-of-type {\n",
       "        vertical-align: middle;\n",
       "    }\n",
       "\n",
       "    .dataframe tbody tr th {\n",
       "        vertical-align: top;\n",
       "    }\n",
       "\n",
       "    .dataframe thead th {\n",
       "        text-align: right;\n",
       "    }\n",
       "</style>\n",
       "<table border=\"1\" class=\"dataframe\">\n",
       "  <thead>\n",
       "    <tr style=\"text-align: right;\">\n",
       "      <th></th>\n",
       "      <th>id</th>\n",
       "      <th>document</th>\n",
       "    </tr>\n",
       "  </thead>\n",
       "  <tbody>\n",
       "    <tr>\n",
       "      <th>0</th>\n",
       "      <td>1</td>\n",
       "      <td>시간 때우기 좋은 영화 지루함</td>\n",
       "    </tr>\n",
       "    <tr>\n",
       "      <th>1</th>\n",
       "      <td>2</td>\n",
       "      <td>훈훈한 정이 느껴지는 영화! 가족끼리 드라마 보듯이 보면 딱~!</td>\n",
       "    </tr>\n",
       "    <tr>\n",
       "      <th>2</th>\n",
       "      <td>3</td>\n",
       "      <td>Childhood fantasy</td>\n",
       "    </tr>\n",
       "    <tr>\n",
       "      <th>3</th>\n",
       "      <td>4</td>\n",
       "      <td>멋있는 영화입니다. 잊을 수 없는!</td>\n",
       "    </tr>\n",
       "    <tr>\n",
       "      <th>4</th>\n",
       "      <td>5</td>\n",
       "      <td>너무 감동적이네요 펑펑 울었습니다</td>\n",
       "    </tr>\n",
       "    <tr>\n",
       "      <th>...</th>\n",
       "      <td>...</td>\n",
       "      <td>...</td>\n",
       "    </tr>\n",
       "    <tr>\n",
       "      <th>4995</th>\n",
       "      <td>4996</td>\n",
       "      <td>연계도 제대로 안되고 뭔가 부족한느낌이들고 찝찝한영화</td>\n",
       "    </tr>\n",
       "    <tr>\n",
       "      <th>4996</th>\n",
       "      <td>4997</td>\n",
       "      <td>내생에 최악의 영화중 하나 졸려서 미칠뻔....</td>\n",
       "    </tr>\n",
       "    <tr>\n",
       "      <th>4997</th>\n",
       "      <td>4998</td>\n",
       "      <td>지금까지 나온 드라마 중 최고였습니다. 100점 만점!</td>\n",
       "    </tr>\n",
       "    <tr>\n",
       "      <th>4998</th>\n",
       "      <td>4999</td>\n",
       "      <td>영화값으로 엄청난 공연을 보았다 - 이게 웬 횡재 ..</td>\n",
       "    </tr>\n",
       "    <tr>\n",
       "      <th>4999</th>\n",
       "      <td>5000</td>\n",
       "      <td>올해엔 롯데 자이언츠가 꼭 우승했으면...</td>\n",
       "    </tr>\n",
       "  </tbody>\n",
       "</table>\n",
       "<p>5000 rows × 2 columns</p>\n",
       "</div>"
      ],
      "text/plain": [
       "        id                             document\n",
       "0        1                     시간 때우기 좋은 영화 지루함\n",
       "1        2  훈훈한 정이 느껴지는 영화! 가족끼리 드라마 보듯이 보면 딱~!\n",
       "2        3                    Childhood fantasy\n",
       "3        4                  멋있는 영화입니다. 잊을 수 없는!\n",
       "4        5                   너무 감동적이네요 펑펑 울었습니다\n",
       "...    ...                                  ...\n",
       "4995  4996        연계도 제대로 안되고 뭔가 부족한느낌이들고 찝찝한영화\n",
       "4996  4997           내생에 최악의 영화중 하나 졸려서 미칠뻔....\n",
       "4997  4998       지금까지 나온 드라마 중 최고였습니다. 100점 만점!\n",
       "4998  4999       영화값으로 엄청난 공연을 보았다 - 이게 웬 횡재 ..\n",
       "4999  5000              올해엔 롯데 자이언츠가 꼭 우승했으면...\n",
       "\n",
       "[5000 rows x 2 columns]"
      ]
     },
     "execution_count": 129,
     "metadata": {},
     "output_type": "execute_result"
    }
   ],
   "source": [
    "test = pd.read_csv(\"./dataset/test.csv\")\n",
    "test"
   ]
  },
  {
   "cell_type": "code",
   "execution_count": 130,
   "metadata": {},
   "outputs": [
    {
     "data": {
      "text/html": [
       "<div>\n",
       "<style scoped>\n",
       "    .dataframe tbody tr th:only-of-type {\n",
       "        vertical-align: middle;\n",
       "    }\n",
       "\n",
       "    .dataframe tbody tr th {\n",
       "        vertical-align: top;\n",
       "    }\n",
       "\n",
       "    .dataframe thead th {\n",
       "        text-align: right;\n",
       "    }\n",
       "</style>\n",
       "<table border=\"1\" class=\"dataframe\">\n",
       "  <thead>\n",
       "    <tr style=\"text-align: right;\">\n",
       "      <th></th>\n",
       "      <th>id</th>\n",
       "      <th>document</th>\n",
       "      <th>prep</th>\n",
       "      <th>main_mor</th>\n",
       "    </tr>\n",
       "  </thead>\n",
       "  <tbody>\n",
       "    <tr>\n",
       "      <th>0</th>\n",
       "      <td>1</td>\n",
       "      <td>시간 때우기 좋은 영화 지루함</td>\n",
       "      <td>시간 때우기 좋은 영화 지루함</td>\n",
       "      <td>시간 때우다 좋다 영화 지루함</td>\n",
       "    </tr>\n",
       "    <tr>\n",
       "      <th>1</th>\n",
       "      <td>2</td>\n",
       "      <td>훈훈한 정이 느껴지는 영화! 가족끼리 드라마 보듯이 보면 딱~!</td>\n",
       "      <td>훈훈한 정이 느껴지는 영화 가족끼리 드라마 보듯이 보면 딱</td>\n",
       "      <td>훈훈하다 정이 느껴지다 영화 가족 끼리 드라마 보다 보다 딱</td>\n",
       "    </tr>\n",
       "    <tr>\n",
       "      <th>2</th>\n",
       "      <td>3</td>\n",
       "      <td>Childhood fantasy</td>\n",
       "      <td></td>\n",
       "      <td></td>\n",
       "    </tr>\n",
       "    <tr>\n",
       "      <th>3</th>\n",
       "      <td>4</td>\n",
       "      <td>멋있는 영화입니다. 잊을 수 없는!</td>\n",
       "      <td>멋있는 영화입니다 잊을 수 없는</td>\n",
       "      <td>멋있다 영화 이다 잊다 수 없다</td>\n",
       "    </tr>\n",
       "    <tr>\n",
       "      <th>4</th>\n",
       "      <td>5</td>\n",
       "      <td>너무 감동적이네요 펑펑 울었습니다</td>\n",
       "      <td>너무 감동적이네요 펑펑 울었습니다</td>\n",
       "      <td>너무 감동 적다 펑펑 울다</td>\n",
       "    </tr>\n",
       "  </tbody>\n",
       "</table>\n",
       "</div>"
      ],
      "text/plain": [
       "   id                             document                               prep  \\\n",
       "0   1                     시간 때우기 좋은 영화 지루함                   시간 때우기 좋은 영화 지루함   \n",
       "1   2  훈훈한 정이 느껴지는 영화! 가족끼리 드라마 보듯이 보면 딱~!  훈훈한 정이 느껴지는 영화 가족끼리 드라마 보듯이 보면 딱    \n",
       "2   3                    Childhood fantasy                                      \n",
       "3   4                  멋있는 영화입니다. 잊을 수 없는!                 멋있는 영화입니다 잊을 수 없는    \n",
       "4   5                   너무 감동적이네요 펑펑 울었습니다                 너무 감동적이네요 펑펑 울었습니다   \n",
       "\n",
       "                            main_mor  \n",
       "0                   시간 때우다 좋다 영화 지루함  \n",
       "1  훈훈하다 정이 느껴지다 영화 가족 끼리 드라마 보다 보다 딱  \n",
       "2                                     \n",
       "3                  멋있다 영화 이다 잊다 수 없다  \n",
       "4                     너무 감동 적다 펑펑 울다  "
      ]
     },
     "execution_count": 130,
     "metadata": {},
     "output_type": "execute_result"
    }
   ],
   "source": [
    "test['prep'] = test['document'].str.replace(\"[^ㄱ-ㅎㅏ-ㅣ가-힣0-9]\",\" \")\n",
    "test['prep'] = test['prep'].str.replace(\" +\",\" \")\n",
    "test.head()\n",
    "test_main_mor = []\n",
    "for sentence in test['prep']: \n",
    "    mor = okt.morphs(sentence,stem=True)\n",
    "    token = [t for t in mor if t not in stop_words]\n",
    "    tokenmor = \" \".join(token)\n",
    "    test_main_mor.append(tokenmor) \n",
    "test[\"main_mor\"] = pd.DataFrame(test_main_mor)\n",
    "#main_pos = 전처리 x 사용\n",
    "test.head()"
   ]
  },
  {
   "cell_type": "code",
   "execution_count": 131,
   "metadata": {},
   "outputs": [
    {
     "data": {
      "text/html": [
       "<div>\n",
       "<style scoped>\n",
       "    .dataframe tbody tr th:only-of-type {\n",
       "        vertical-align: middle;\n",
       "    }\n",
       "\n",
       "    .dataframe tbody tr th {\n",
       "        vertical-align: top;\n",
       "    }\n",
       "\n",
       "    .dataframe thead th {\n",
       "        text-align: right;\n",
       "    }\n",
       "</style>\n",
       "<table border=\"1\" class=\"dataframe\">\n",
       "  <thead>\n",
       "    <tr style=\"text-align: right;\">\n",
       "      <th></th>\n",
       "      <th>id</th>\n",
       "      <th>document</th>\n",
       "      <th>prep</th>\n",
       "      <th>main_mor</th>\n",
       "    </tr>\n",
       "  </thead>\n",
       "  <tbody>\n",
       "    <tr>\n",
       "      <th>0</th>\n",
       "      <td>1</td>\n",
       "      <td>시간 때우다 좋다 영화 지루함</td>\n",
       "      <td>시간 때우기 좋은 영화 지루함</td>\n",
       "      <td>시간 때우다 좋다 영화 지루함</td>\n",
       "    </tr>\n",
       "    <tr>\n",
       "      <th>1</th>\n",
       "      <td>2</td>\n",
       "      <td>훈훈하다 정이 느껴지다 영화 가족 끼리 드라마 보다 보다 딱</td>\n",
       "      <td>훈훈한 정이 느껴지는 영화 가족끼리 드라마 보듯이 보면 딱</td>\n",
       "      <td>훈훈하다 정이 느껴지다 영화 가족 끼리 드라마 보다 보다 딱</td>\n",
       "    </tr>\n",
       "    <tr>\n",
       "      <th>2</th>\n",
       "      <td>3</td>\n",
       "      <td></td>\n",
       "      <td></td>\n",
       "      <td></td>\n",
       "    </tr>\n",
       "    <tr>\n",
       "      <th>3</th>\n",
       "      <td>4</td>\n",
       "      <td>멋있다 영화 이다 잊다 수 없다</td>\n",
       "      <td>멋있는 영화입니다 잊을 수 없는</td>\n",
       "      <td>멋있다 영화 이다 잊다 수 없다</td>\n",
       "    </tr>\n",
       "    <tr>\n",
       "      <th>4</th>\n",
       "      <td>5</td>\n",
       "      <td>너무 감동 적다 펑펑 울다</td>\n",
       "      <td>너무 감동적이네요 펑펑 울었습니다</td>\n",
       "      <td>너무 감동 적다 펑펑 울다</td>\n",
       "    </tr>\n",
       "  </tbody>\n",
       "</table>\n",
       "</div>"
      ],
      "text/plain": [
       "   id                           document                               prep  \\\n",
       "0   1                   시간 때우다 좋다 영화 지루함                   시간 때우기 좋은 영화 지루함   \n",
       "1   2  훈훈하다 정이 느껴지다 영화 가족 끼리 드라마 보다 보다 딱  훈훈한 정이 느껴지는 영화 가족끼리 드라마 보듯이 보면 딱    \n",
       "2   3                                                                         \n",
       "3   4                  멋있다 영화 이다 잊다 수 없다                 멋있는 영화입니다 잊을 수 없는    \n",
       "4   5                     너무 감동 적다 펑펑 울다                 너무 감동적이네요 펑펑 울었습니다   \n",
       "\n",
       "                            main_mor  \n",
       "0                   시간 때우다 좋다 영화 지루함  \n",
       "1  훈훈하다 정이 느껴지다 영화 가족 끼리 드라마 보다 보다 딱  \n",
       "2                                     \n",
       "3                  멋있다 영화 이다 잊다 수 없다  \n",
       "4                     너무 감동 적다 펑펑 울다  "
      ]
     },
     "execution_count": 131,
     "metadata": {},
     "output_type": "execute_result"
    }
   ],
   "source": [
    "test_main_pos = [] \n",
    "for sentence in test['document']: \n",
    "    pos = okt.pos(sentence,stem=True)\n",
    "    main_words = [word_pos[0] for word_pos in pos if word_pos[1] in (\"Noun\", \"Adverb\", \"Adjective\", \"Verb\")]\n",
    "    main_words_str = \" \".join(main_words)\n",
    "    test_main_pos.append(main_words_str) \n",
    "test[\"document\"] = pd.DataFrame(test_main_pos)\n",
    "#main_pos = 전처리 x 사용\n",
    "test.head()"
   ]
  },
  {
   "cell_type": "code",
   "execution_count": 218,
   "metadata": {},
   "outputs": [],
   "source": [
    "X_test = test.main_mor\n",
    "X_test_vec = vectorizer.transform(X_test)"
   ]
  },
  {
   "cell_type": "code",
   "execution_count": 222,
   "metadata": {},
   "outputs": [
    {
     "name": "stdout",
     "output_type": "stream",
     "text": [
      "[0 1 1 ... 1 0 1]\n"
     ]
    }
   ],
   "source": [
    "pred_test =svc.predict(X_test_vec)\n",
    "print(pred_test)"
   ]
  },
  {
   "cell_type": "code",
   "execution_count": 223,
   "metadata": {},
   "outputs": [
    {
     "data": {
      "text/html": [
       "<div>\n",
       "<style scoped>\n",
       "    .dataframe tbody tr th:only-of-type {\n",
       "        vertical-align: middle;\n",
       "    }\n",
       "\n",
       "    .dataframe tbody tr th {\n",
       "        vertical-align: top;\n",
       "    }\n",
       "\n",
       "    .dataframe thead th {\n",
       "        text-align: right;\n",
       "    }\n",
       "</style>\n",
       "<table border=\"1\" class=\"dataframe\">\n",
       "  <thead>\n",
       "    <tr style=\"text-align: right;\">\n",
       "      <th></th>\n",
       "      <th>id</th>\n",
       "      <th>label</th>\n",
       "    </tr>\n",
       "  </thead>\n",
       "  <tbody>\n",
       "    <tr>\n",
       "      <th>0</th>\n",
       "      <td>1</td>\n",
       "      <td>0</td>\n",
       "    </tr>\n",
       "    <tr>\n",
       "      <th>1</th>\n",
       "      <td>2</td>\n",
       "      <td>1</td>\n",
       "    </tr>\n",
       "    <tr>\n",
       "      <th>2</th>\n",
       "      <td>3</td>\n",
       "      <td>1</td>\n",
       "    </tr>\n",
       "    <tr>\n",
       "      <th>3</th>\n",
       "      <td>4</td>\n",
       "      <td>1</td>\n",
       "    </tr>\n",
       "    <tr>\n",
       "      <th>4</th>\n",
       "      <td>5</td>\n",
       "      <td>1</td>\n",
       "    </tr>\n",
       "    <tr>\n",
       "      <th>...</th>\n",
       "      <td>...</td>\n",
       "      <td>...</td>\n",
       "    </tr>\n",
       "    <tr>\n",
       "      <th>4995</th>\n",
       "      <td>4996</td>\n",
       "      <td>0</td>\n",
       "    </tr>\n",
       "    <tr>\n",
       "      <th>4996</th>\n",
       "      <td>4997</td>\n",
       "      <td>0</td>\n",
       "    </tr>\n",
       "    <tr>\n",
       "      <th>4997</th>\n",
       "      <td>4998</td>\n",
       "      <td>1</td>\n",
       "    </tr>\n",
       "    <tr>\n",
       "      <th>4998</th>\n",
       "      <td>4999</td>\n",
       "      <td>0</td>\n",
       "    </tr>\n",
       "    <tr>\n",
       "      <th>4999</th>\n",
       "      <td>5000</td>\n",
       "      <td>1</td>\n",
       "    </tr>\n",
       "  </tbody>\n",
       "</table>\n",
       "<p>5000 rows × 2 columns</p>\n",
       "</div>"
      ],
      "text/plain": [
       "        id  label\n",
       "0        1      0\n",
       "1        2      1\n",
       "2        3      1\n",
       "3        4      1\n",
       "4        5      1\n",
       "...    ...    ...\n",
       "4995  4996      0\n",
       "4996  4997      0\n",
       "4997  4998      1\n",
       "4998  4999      0\n",
       "4999  5000      1\n",
       "\n",
       "[5000 rows x 2 columns]"
      ]
     },
     "execution_count": 223,
     "metadata": {},
     "output_type": "execute_result"
    }
   ],
   "source": [
    "subm = pd.read_csv(\"./dataset/sample_submission.csv\")\n",
    "subm['label'] = pred_test\n",
    "subm"
   ]
  },
  {
   "cell_type": "code",
   "execution_count": 224,
   "metadata": {},
   "outputs": [],
   "source": [
    "subm.to_csv(\"submission.csv\", index=False)"
   ]
  },
  {
   "cell_type": "code",
   "execution_count": null,
   "metadata": {},
   "outputs": [],
   "source": []
  }
 ],
 "metadata": {
  "kernelspec": {
   "display_name": "Python 3 (ipykernel)",
   "language": "python",
   "name": "python3"
  },
  "language_info": {
   "codemirror_mode": {
    "name": "ipython",
    "version": 3
   },
   "file_extension": ".py",
   "mimetype": "text/x-python",
   "name": "python",
   "nbconvert_exporter": "python",
   "pygments_lexer": "ipython3",
   "version": "3.8.12"
  }
 },
 "nbformat": 4,
 "nbformat_minor": 4
}
