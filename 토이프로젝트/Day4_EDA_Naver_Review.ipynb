{
 "cells": [
  {
   "cell_type": "code",
   "execution_count": 1,
   "id": "98933485",
   "metadata": {},
   "outputs": [],
   "source": [
    "import pandas as pd"
   ]
  },
  {
   "cell_type": "code",
   "execution_count": 2,
   "id": "ea0861c8",
   "metadata": {},
   "outputs": [],
   "source": [
    "df = pd.read_excel(\"Naver_Proprocessed.xlsx\")"
   ]
  },
  {
   "cell_type": "code",
   "execution_count": 3,
   "id": "02b3bb9c",
   "metadata": {},
   "outputs": [
    {
     "data": {
      "text/html": [
       "<div>\n",
       "<style scoped>\n",
       "    .dataframe tbody tr th:only-of-type {\n",
       "        vertical-align: middle;\n",
       "    }\n",
       "\n",
       "    .dataframe tbody tr th {\n",
       "        vertical-align: top;\n",
       "    }\n",
       "\n",
       "    .dataframe thead th {\n",
       "        text-align: right;\n",
       "    }\n",
       "</style>\n",
       "<table border=\"1\" class=\"dataframe\">\n",
       "  <thead>\n",
       "    <tr style=\"text-align: right;\">\n",
       "      <th></th>\n",
       "      <th>type</th>\n",
       "      <th>category</th>\n",
       "      <th>review</th>\n",
       "      <th>star</th>\n",
       "      <th>preprocessed</th>\n",
       "      <th>tokenized_stem</th>\n",
       "      <th>main_pos</th>\n",
       "      <th>main_pos_2</th>\n",
       "    </tr>\n",
       "  </thead>\n",
       "  <tbody>\n",
       "    <tr>\n",
       "      <th>0</th>\n",
       "      <td>macbook air m1 256 8 실버</td>\n",
       "      <td>전체</td>\n",
       "      <td>이번 M1은 정말 물건입니다.\\n기존 2019 맥북프로 고급형 16인치 사용하고 있...</td>\n",
       "      <td>평점5</td>\n",
       "      <td>이번 은 정말 물건입니다기존 맥북프로 고급형 인치 사용하고 있었는데 가벼운 작업이나...</td>\n",
       "      <td>이번 은 정말 물건 이다 기존 맥북프로 고급 형 인치 사용 하고 있다 가볍다 작업 ...</td>\n",
       "      <td>이번 은 정말 물건 기존 맥북프로 고급 형 인치 사용 하고 있다 가볍다 작업 이나 ...</td>\n",
       "      <td>이번 은 정말 물건 입니다 기존 맥북프로 고급 인치 사용 있었는데 가벼운 작업 문서...</td>\n",
       "    </tr>\n",
       "    <tr>\n",
       "      <th>1</th>\n",
       "      <td>macbook air m1 256 8 실버</td>\n",
       "      <td>전체</td>\n",
       "      <td>장점이 많은 M1제품. 2017년형 맥북프로 13인치 사용중이였는데 훨씬 낫네요. ...</td>\n",
       "      <td>평점5</td>\n",
       "      <td>장점이 많은 제품 년형 맥북프로 인치 사용중이였는데 훨씬 낫네요 에어인데도 불구하고...</td>\n",
       "      <td>장점 이 많다 제품 년 형 맥북프로 인치 사용 중 이 이다 훨씬 낫다 에어 인데 도...</td>\n",
       "      <td>장점 이 많다 제품 년 형 맥북프로 인치 사용 중 이 훨씬 낫다 에어 도 불구 하고...</td>\n",
       "      <td>장점 많은 제품 년 맥북프로 인치 사용 였는데 훨씬 낫네요 에어 도 불구 레 티나 ...</td>\n",
       "    </tr>\n",
       "    <tr>\n",
       "      <th>2</th>\n",
       "      <td>macbook air m1 256 8 실버</td>\n",
       "      <td>전체</td>\n",
       "      <td>한 4일 써보고 리뷰 남깁니다.\\n진짜 하루라도 빨리 살 걸 후회합니다.\\n팬리스로...</td>\n",
       "      <td>평점5</td>\n",
       "      <td>한 일 써보고 리뷰 남깁니다진짜 하루라도 빨리 살 걸 후회합니다팬리스로 소음도 전혀...</td>\n",
       "      <td>하다 일 써다 보고 리뷰 남기다 진짜 하루 라도 빨리 살 걸 후회 하다 팬리스 로 ...</td>\n",
       "      <td>하다 일 써다 보고 리뷰 남기다 진짜 하루 빨리 살 걸 후회 하다 팬리스 로 소음 ...</td>\n",
       "      <td>한 일 써 보고 리뷰 남깁니다 진짜 하루 빨리 살 걸 후회 합니다 팬리스 소음 전혀...</td>\n",
       "    </tr>\n",
       "    <tr>\n",
       "      <th>3</th>\n",
       "      <td>macbook air m1 256 8 실버</td>\n",
       "      <td>전체</td>\n",
       "      <td>솔직히 첨엔 이쁜 거 '디자인' 보고 사고 싶단 생각을 하기 시작했는데요ㅎㅎㅎ(애플...</td>\n",
       "      <td>평점5</td>\n",
       "      <td>솔직히 첨엔 이쁜 거 디자인 보고 사고 싶단 생각을 하기 시작했는데요ㅎㅎㅎ애플 로고...</td>\n",
       "      <td>솔직하다 첨 엔 이쁘다 거 디자인 보고 사고 싶다 생각 을 하다 시작 하다 ㅎㅎㅎ ...</td>\n",
       "      <td>솔직하다 첨 이쁘다 거 디자인 보고 사고 싶다 생각 하다 시작 하다 애플 로고 진짜...</td>\n",
       "      <td>솔직히 첨 이쁜 거 디자인 보고 사고 싶단 생각 하기 시작 했는데요 애플 로고 진짜...</td>\n",
       "    </tr>\n",
       "    <tr>\n",
       "      <th>4</th>\n",
       "      <td>macbook air m1 256 8 실버</td>\n",
       "      <td>전체</td>\n",
       "      <td>배송이 조금 늦은감이 있었지만 상품은 아주 기다리고 기대했던 만큼 최고네요아이폰 아...</td>\n",
       "      <td>평점5</td>\n",
       "      <td>배송이 조금 늦은감이 있었지만 상품은 아주 기다리고 기대했던 만큼 최고네요아이폰 아...</td>\n",
       "      <td>배송 이 조금 늦 은감 이 있다 상품 은 아주 기다리다 기대하다 만큼 최고 네 요 ...</td>\n",
       "      <td>배송 이 조금 늦 은감 이 있다 상품 은 아주 기다리다 기대하다 만큼 최고 네 요 ...</td>\n",
       "      <td>배송 조금 늦 은감 있었지만 상품 아주 기다리고 기대했던 만큼 최고 아이폰 아이패드...</td>\n",
       "    </tr>\n",
       "  </tbody>\n",
       "</table>\n",
       "</div>"
      ],
      "text/plain": [
       "                      type category  \\\n",
       "0  macbook air m1 256 8 실버       전체   \n",
       "1  macbook air m1 256 8 실버       전체   \n",
       "2  macbook air m1 256 8 실버       전체   \n",
       "3  macbook air m1 256 8 실버       전체   \n",
       "4  macbook air m1 256 8 실버       전체   \n",
       "\n",
       "                                              review star  \\\n",
       "0  이번 M1은 정말 물건입니다.\\n기존 2019 맥북프로 고급형 16인치 사용하고 있...  평점5   \n",
       "1  장점이 많은 M1제품. 2017년형 맥북프로 13인치 사용중이였는데 훨씬 낫네요. ...  평점5   \n",
       "2  한 4일 써보고 리뷰 남깁니다.\\n진짜 하루라도 빨리 살 걸 후회합니다.\\n팬리스로...  평점5   \n",
       "3  솔직히 첨엔 이쁜 거 '디자인' 보고 사고 싶단 생각을 하기 시작했는데요ㅎㅎㅎ(애플...  평점5   \n",
       "4  배송이 조금 늦은감이 있었지만 상품은 아주 기다리고 기대했던 만큼 최고네요아이폰 아...  평점5   \n",
       "\n",
       "                                        preprocessed  \\\n",
       "0  이번 은 정말 물건입니다기존 맥북프로 고급형 인치 사용하고 있었는데 가벼운 작업이나...   \n",
       "1  장점이 많은 제품 년형 맥북프로 인치 사용중이였는데 훨씬 낫네요 에어인데도 불구하고...   \n",
       "2  한 일 써보고 리뷰 남깁니다진짜 하루라도 빨리 살 걸 후회합니다팬리스로 소음도 전혀...   \n",
       "3  솔직히 첨엔 이쁜 거 디자인 보고 사고 싶단 생각을 하기 시작했는데요ㅎㅎㅎ애플 로고...   \n",
       "4  배송이 조금 늦은감이 있었지만 상품은 아주 기다리고 기대했던 만큼 최고네요아이폰 아...   \n",
       "\n",
       "                                      tokenized_stem  \\\n",
       "0  이번 은 정말 물건 이다 기존 맥북프로 고급 형 인치 사용 하고 있다 가볍다 작업 ...   \n",
       "1  장점 이 많다 제품 년 형 맥북프로 인치 사용 중 이 이다 훨씬 낫다 에어 인데 도...   \n",
       "2  하다 일 써다 보고 리뷰 남기다 진짜 하루 라도 빨리 살 걸 후회 하다 팬리스 로 ...   \n",
       "3  솔직하다 첨 엔 이쁘다 거 디자인 보고 사고 싶다 생각 을 하다 시작 하다 ㅎㅎㅎ ...   \n",
       "4  배송 이 조금 늦 은감 이 있다 상품 은 아주 기다리다 기대하다 만큼 최고 네 요 ...   \n",
       "\n",
       "                                            main_pos  \\\n",
       "0  이번 은 정말 물건 기존 맥북프로 고급 형 인치 사용 하고 있다 가볍다 작업 이나 ...   \n",
       "1  장점 이 많다 제품 년 형 맥북프로 인치 사용 중 이 훨씬 낫다 에어 도 불구 하고...   \n",
       "2  하다 일 써다 보고 리뷰 남기다 진짜 하루 빨리 살 걸 후회 하다 팬리스 로 소음 ...   \n",
       "3  솔직하다 첨 이쁘다 거 디자인 보고 사고 싶다 생각 하다 시작 하다 애플 로고 진짜...   \n",
       "4  배송 이 조금 늦 은감 이 있다 상품 은 아주 기다리다 기대하다 만큼 최고 네 요 ...   \n",
       "\n",
       "                                          main_pos_2  \n",
       "0  이번 은 정말 물건 입니다 기존 맥북프로 고급 인치 사용 있었는데 가벼운 작업 문서...  \n",
       "1  장점 많은 제품 년 맥북프로 인치 사용 였는데 훨씬 낫네요 에어 도 불구 레 티나 ...  \n",
       "2  한 일 써 보고 리뷰 남깁니다 진짜 하루 빨리 살 걸 후회 합니다 팬리스 소음 전혀...  \n",
       "3  솔직히 첨 이쁜 거 디자인 보고 사고 싶단 생각 하기 시작 했는데요 애플 로고 진짜...  \n",
       "4  배송 조금 늦 은감 있었지만 상품 아주 기다리고 기대했던 만큼 최고 아이폰 아이패드...  "
      ]
     },
     "execution_count": 3,
     "metadata": {},
     "output_type": "execute_result"
    }
   ],
   "source": [
    "df.head()"
   ]
  },
  {
   "cell_type": "code",
   "execution_count": 4,
   "id": "60b59f14",
   "metadata": {},
   "outputs": [
    {
     "data": {
      "text/plain": [
       "array(['전체'], dtype=object)"
      ]
     },
     "execution_count": 4,
     "metadata": {},
     "output_type": "execute_result"
    }
   ],
   "source": [
    "df.category.unique()"
   ]
  },
  {
   "cell_type": "code",
   "execution_count": 5,
   "id": "8241a5ea",
   "metadata": {},
   "outputs": [],
   "source": [
    "df.drop(['category'], axis = 1, inplace = True)"
   ]
  },
  {
   "cell_type": "markdown",
   "id": "e1823b6c",
   "metadata": {},
   "source": [
    "# 평점 숫자만 남기고 분포 시각화"
   ]
  },
  {
   "cell_type": "code",
   "execution_count": 6,
   "id": "e950d4cf",
   "metadata": {},
   "outputs": [],
   "source": [
    "for i in range(len(df)):\n",
    "    df.loc[i, 'star'] = int(df.loc[i, 'star'][-1])"
   ]
  },
  {
   "cell_type": "code",
   "execution_count": 7,
   "id": "5c3c3598",
   "metadata": {},
   "outputs": [
    {
     "data": {
      "text/html": [
       "<div>\n",
       "<style scoped>\n",
       "    .dataframe tbody tr th:only-of-type {\n",
       "        vertical-align: middle;\n",
       "    }\n",
       "\n",
       "    .dataframe tbody tr th {\n",
       "        vertical-align: top;\n",
       "    }\n",
       "\n",
       "    .dataframe thead th {\n",
       "        text-align: right;\n",
       "    }\n",
       "</style>\n",
       "<table border=\"1\" class=\"dataframe\">\n",
       "  <thead>\n",
       "    <tr style=\"text-align: right;\">\n",
       "      <th></th>\n",
       "      <th>type</th>\n",
       "      <th>review</th>\n",
       "      <th>star</th>\n",
       "      <th>preprocessed</th>\n",
       "      <th>tokenized_stem</th>\n",
       "      <th>main_pos</th>\n",
       "      <th>main_pos_2</th>\n",
       "    </tr>\n",
       "  </thead>\n",
       "  <tbody>\n",
       "    <tr>\n",
       "      <th>0</th>\n",
       "      <td>macbook air m1 256 8 실버</td>\n",
       "      <td>이번 M1은 정말 물건입니다.\\n기존 2019 맥북프로 고급형 16인치 사용하고 있...</td>\n",
       "      <td>5</td>\n",
       "      <td>이번 은 정말 물건입니다기존 맥북프로 고급형 인치 사용하고 있었는데 가벼운 작업이나...</td>\n",
       "      <td>이번 은 정말 물건 이다 기존 맥북프로 고급 형 인치 사용 하고 있다 가볍다 작업 ...</td>\n",
       "      <td>이번 은 정말 물건 기존 맥북프로 고급 형 인치 사용 하고 있다 가볍다 작업 이나 ...</td>\n",
       "      <td>이번 은 정말 물건 입니다 기존 맥북프로 고급 인치 사용 있었는데 가벼운 작업 문서...</td>\n",
       "    </tr>\n",
       "    <tr>\n",
       "      <th>1</th>\n",
       "      <td>macbook air m1 256 8 실버</td>\n",
       "      <td>장점이 많은 M1제품. 2017년형 맥북프로 13인치 사용중이였는데 훨씬 낫네요. ...</td>\n",
       "      <td>5</td>\n",
       "      <td>장점이 많은 제품 년형 맥북프로 인치 사용중이였는데 훨씬 낫네요 에어인데도 불구하고...</td>\n",
       "      <td>장점 이 많다 제품 년 형 맥북프로 인치 사용 중 이 이다 훨씬 낫다 에어 인데 도...</td>\n",
       "      <td>장점 이 많다 제품 년 형 맥북프로 인치 사용 중 이 훨씬 낫다 에어 도 불구 하고...</td>\n",
       "      <td>장점 많은 제품 년 맥북프로 인치 사용 였는데 훨씬 낫네요 에어 도 불구 레 티나 ...</td>\n",
       "    </tr>\n",
       "    <tr>\n",
       "      <th>2</th>\n",
       "      <td>macbook air m1 256 8 실버</td>\n",
       "      <td>한 4일 써보고 리뷰 남깁니다.\\n진짜 하루라도 빨리 살 걸 후회합니다.\\n팬리스로...</td>\n",
       "      <td>5</td>\n",
       "      <td>한 일 써보고 리뷰 남깁니다진짜 하루라도 빨리 살 걸 후회합니다팬리스로 소음도 전혀...</td>\n",
       "      <td>하다 일 써다 보고 리뷰 남기다 진짜 하루 라도 빨리 살 걸 후회 하다 팬리스 로 ...</td>\n",
       "      <td>하다 일 써다 보고 리뷰 남기다 진짜 하루 빨리 살 걸 후회 하다 팬리스 로 소음 ...</td>\n",
       "      <td>한 일 써 보고 리뷰 남깁니다 진짜 하루 빨리 살 걸 후회 합니다 팬리스 소음 전혀...</td>\n",
       "    </tr>\n",
       "    <tr>\n",
       "      <th>3</th>\n",
       "      <td>macbook air m1 256 8 실버</td>\n",
       "      <td>솔직히 첨엔 이쁜 거 '디자인' 보고 사고 싶단 생각을 하기 시작했는데요ㅎㅎㅎ(애플...</td>\n",
       "      <td>5</td>\n",
       "      <td>솔직히 첨엔 이쁜 거 디자인 보고 사고 싶단 생각을 하기 시작했는데요ㅎㅎㅎ애플 로고...</td>\n",
       "      <td>솔직하다 첨 엔 이쁘다 거 디자인 보고 사고 싶다 생각 을 하다 시작 하다 ㅎㅎㅎ ...</td>\n",
       "      <td>솔직하다 첨 이쁘다 거 디자인 보고 사고 싶다 생각 하다 시작 하다 애플 로고 진짜...</td>\n",
       "      <td>솔직히 첨 이쁜 거 디자인 보고 사고 싶단 생각 하기 시작 했는데요 애플 로고 진짜...</td>\n",
       "    </tr>\n",
       "    <tr>\n",
       "      <th>4</th>\n",
       "      <td>macbook air m1 256 8 실버</td>\n",
       "      <td>배송이 조금 늦은감이 있었지만 상품은 아주 기다리고 기대했던 만큼 최고네요아이폰 아...</td>\n",
       "      <td>5</td>\n",
       "      <td>배송이 조금 늦은감이 있었지만 상품은 아주 기다리고 기대했던 만큼 최고네요아이폰 아...</td>\n",
       "      <td>배송 이 조금 늦 은감 이 있다 상품 은 아주 기다리다 기대하다 만큼 최고 네 요 ...</td>\n",
       "      <td>배송 이 조금 늦 은감 이 있다 상품 은 아주 기다리다 기대하다 만큼 최고 네 요 ...</td>\n",
       "      <td>배송 조금 늦 은감 있었지만 상품 아주 기다리고 기대했던 만큼 최고 아이폰 아이패드...</td>\n",
       "    </tr>\n",
       "  </tbody>\n",
       "</table>\n",
       "</div>"
      ],
      "text/plain": [
       "                      type                                             review  \\\n",
       "0  macbook air m1 256 8 실버  이번 M1은 정말 물건입니다.\\n기존 2019 맥북프로 고급형 16인치 사용하고 있...   \n",
       "1  macbook air m1 256 8 실버  장점이 많은 M1제품. 2017년형 맥북프로 13인치 사용중이였는데 훨씬 낫네요. ...   \n",
       "2  macbook air m1 256 8 실버  한 4일 써보고 리뷰 남깁니다.\\n진짜 하루라도 빨리 살 걸 후회합니다.\\n팬리스로...   \n",
       "3  macbook air m1 256 8 실버  솔직히 첨엔 이쁜 거 '디자인' 보고 사고 싶단 생각을 하기 시작했는데요ㅎㅎㅎ(애플...   \n",
       "4  macbook air m1 256 8 실버  배송이 조금 늦은감이 있었지만 상품은 아주 기다리고 기대했던 만큼 최고네요아이폰 아...   \n",
       "\n",
       "  star                                       preprocessed  \\\n",
       "0    5  이번 은 정말 물건입니다기존 맥북프로 고급형 인치 사용하고 있었는데 가벼운 작업이나...   \n",
       "1    5  장점이 많은 제품 년형 맥북프로 인치 사용중이였는데 훨씬 낫네요 에어인데도 불구하고...   \n",
       "2    5  한 일 써보고 리뷰 남깁니다진짜 하루라도 빨리 살 걸 후회합니다팬리스로 소음도 전혀...   \n",
       "3    5  솔직히 첨엔 이쁜 거 디자인 보고 사고 싶단 생각을 하기 시작했는데요ㅎㅎㅎ애플 로고...   \n",
       "4    5  배송이 조금 늦은감이 있었지만 상품은 아주 기다리고 기대했던 만큼 최고네요아이폰 아...   \n",
       "\n",
       "                                      tokenized_stem  \\\n",
       "0  이번 은 정말 물건 이다 기존 맥북프로 고급 형 인치 사용 하고 있다 가볍다 작업 ...   \n",
       "1  장점 이 많다 제품 년 형 맥북프로 인치 사용 중 이 이다 훨씬 낫다 에어 인데 도...   \n",
       "2  하다 일 써다 보고 리뷰 남기다 진짜 하루 라도 빨리 살 걸 후회 하다 팬리스 로 ...   \n",
       "3  솔직하다 첨 엔 이쁘다 거 디자인 보고 사고 싶다 생각 을 하다 시작 하다 ㅎㅎㅎ ...   \n",
       "4  배송 이 조금 늦 은감 이 있다 상품 은 아주 기다리다 기대하다 만큼 최고 네 요 ...   \n",
       "\n",
       "                                            main_pos  \\\n",
       "0  이번 은 정말 물건 기존 맥북프로 고급 형 인치 사용 하고 있다 가볍다 작업 이나 ...   \n",
       "1  장점 이 많다 제품 년 형 맥북프로 인치 사용 중 이 훨씬 낫다 에어 도 불구 하고...   \n",
       "2  하다 일 써다 보고 리뷰 남기다 진짜 하루 빨리 살 걸 후회 하다 팬리스 로 소음 ...   \n",
       "3  솔직하다 첨 이쁘다 거 디자인 보고 사고 싶다 생각 하다 시작 하다 애플 로고 진짜...   \n",
       "4  배송 이 조금 늦 은감 이 있다 상품 은 아주 기다리다 기대하다 만큼 최고 네 요 ...   \n",
       "\n",
       "                                          main_pos_2  \n",
       "0  이번 은 정말 물건 입니다 기존 맥북프로 고급 인치 사용 있었는데 가벼운 작업 문서...  \n",
       "1  장점 많은 제품 년 맥북프로 인치 사용 였는데 훨씬 낫네요 에어 도 불구 레 티나 ...  \n",
       "2  한 일 써 보고 리뷰 남깁니다 진짜 하루 빨리 살 걸 후회 합니다 팬리스 소음 전혀...  \n",
       "3  솔직히 첨 이쁜 거 디자인 보고 사고 싶단 생각 하기 시작 했는데요 애플 로고 진짜...  \n",
       "4  배송 조금 늦 은감 있었지만 상품 아주 기다리고 기대했던 만큼 최고 아이폰 아이패드...  "
      ]
     },
     "execution_count": 7,
     "metadata": {},
     "output_type": "execute_result"
    }
   ],
   "source": [
    "df.head()"
   ]
  },
  {
   "cell_type": "markdown",
   "id": "68e444c4",
   "metadata": {},
   "source": [
    "## 7개 제품 총 평점 분포 시각화\n",
    "- 분포 불균형 심각\n",
    "- 어떻게 해결? "
   ]
  },
  {
   "cell_type": "code",
   "execution_count": 8,
   "id": "bcb4e221",
   "metadata": {},
   "outputs": [
    {
     "data": {
      "text/plain": [
       "<AxesSubplot:>"
      ]
     },
     "execution_count": 8,
     "metadata": {},
     "output_type": "execute_result"
    },
    {
     "data": {
      "image/png": "[encoded data removed]",
      "text/plain": [
       "<Figure size 720x576 with 1 Axes>"
      ]
     },
     "metadata": {
      "needs_background": "light"
     },
     "output_type": "display_data"
    }
   ],
   "source": [
    "CountStar = pd.value_counts(df['star'].values, sort = True)\n",
    "CountStar.plot.bar()\n",
    "CountStar.plot.bar(grid = True, figsize = (10, 8), fontsize = 15)"
   ]
  },
  {
   "cell_type": "code",
   "execution_count": 21,
   "id": "799677e8",
   "metadata": {},
   "outputs": [
    {
     "data": {
      "text/plain": [
       "pandas.core.series.Series"
      ]
     },
     "execution_count": 21,
     "metadata": {},
     "output_type": "execute_result"
    }
   ],
   "source": [
    "type(CountStar)"
   ]
  },
  {
   "cell_type": "code",
   "execution_count": 23,
   "id": "407ffbdb",
   "metadata": {},
   "outputs": [
    {
     "data": {
      "text/plain": [
       "5    1718\n",
       "4     143\n",
       "3      23\n",
       "1      11\n",
       "2       9\n",
       "dtype: int64"
      ]
     },
     "execution_count": 23,
     "metadata": {},
     "output_type": "execute_result"
    }
   ],
   "source": [
    "CountStar"
   ]
  },
  {
   "cell_type": "code",
   "execution_count": 11,
   "id": "1ea89e2a",
   "metadata": {},
   "outputs": [
    {
     "data": {
      "text/plain": [
       "7"
      ]
     },
     "execution_count": 11,
     "metadata": {},
     "output_type": "execute_result"
    }
   ],
   "source": [
    "len(df.type.unique()) # 제품 종류 7개 "
   ]
  },
  {
   "cell_type": "code",
   "execution_count": 15,
   "id": "a717920e",
   "metadata": {},
   "outputs": [
    {
     "data": {
      "text/plain": [
       "array(['macbook air m1 256 8 실버', 'macbook air m1 256 8 스페이스 그레이',\n",
       "       'macbook air m1 256 16', 'macbook air m1 512 16',\n",
       "       'macbook pro m1 13 256 8 실버', 'macbook pro m1 13 512 16',\n",
       "       'macbook pro m1 13 256 8 스페이스 그레이'], dtype=object)"
      ]
     },
     "execution_count": 15,
     "metadata": {},
     "output_type": "execute_result"
    }
   ],
   "source": [
    "df.type.unique()"
   ]
  },
  {
   "cell_type": "code",
   "execution_count": 19,
   "id": "19798271",
   "metadata": {},
   "outputs": [],
   "source": [
    "mac_star_visual = []"
   ]
  },
  {
   "cell_type": "code",
   "execution_count": 20,
   "id": "09dab60f",
   "metadata": {},
   "outputs": [],
   "source": [
    "macs = ['macbook air m1 256 8 실버', 'macbook air m1 256 8 스페이스 그레이',\n",
    "       'macbook air m1 256 16', 'macbook air m1 512 16',\n",
    "       'macbook pro m1 13 256 8 실버', 'macbook pro m1 13 512 16',\n",
    "       'macbook pro m1 13 256 8 스페이스 그레이']"
   ]
  },
  {
   "cell_type": "code",
   "execution_count": 25,
   "id": "5b47693e",
   "metadata": {},
   "outputs": [],
   "source": [
    "for i in macs:\n",
    "    mac_star_visual.append(pd.value_counts(df[df['type'] == i]['star'].values, sort = True))"
   ]
  },
  {
   "cell_type": "markdown",
   "id": "e2fa7df7",
   "metadata": {},
   "source": [
    "### 해결한 이슈\n",
    "- 그래프를 한번에 다른 좌표 상에 그리기 위해서 : subplot를 사용하면 된다.\n",
    "- subplot에 제목을 추가하고 싶다면 : .set_title() 사용\n",
    "- 한글 깨짐 현상 해결 : 나눔글꼴 path 추가 \n",
    "\n",
    "### 인사이트\n",
    "- 5로 입력한 평점이 압도적으로 많음 \n",
    "- 특정 제품은 몇개의 점수 (1점 또는 2점 또는 3점)가 없는 것도 있음\n",
    "\n",
    "### 결론\n",
    "- 이거야 말로 데이터 불균형이 심한 데이터\n",
    "- 분석 목표를 정확히 해야할 것 같음\n",
    "- 데이터 불균형이 심한 만큼, 점수를 맞추는 거에 의의를 둔다면 데이터 불균형 문제 해결 능력이 길러질 것\n",
    "- 1점, 2점, 3점 등 상대적으로 낮은 점수를 분석한다면 정성적 분석 능력 길러질 듯 좀 더 의미있기도 하고\n",
    "- 우선 낮은 점수, 중간 점수의 워드 클라우드 그려보고, 높은 점수는 또 어떤 이유로 높은 점수를 받을 수 있었는지 분석해보기"
   ]
  },
  {
   "cell_type": "code",
   "execution_count": 46,
   "id": "96079aae",
   "metadata": {},
   "outputs": [
    {
     "data": {
      "image/png": "[encoded data removed]",
      "text/plain": [
       "<Figure size 1080x720 with 7 Axes>"
      ]
     },
     "metadata": {
      "needs_background": "light"
     },
     "output_type": "display_data"
    }
   ],
   "source": [
    "import matplotlib.pyplot as plt \n",
    "\n",
    "from matplotlib import font_manager, rc\n",
    "font_path =  \"C:/Windows/Fonts/NGULIM.TTF\"\n",
    "font = font_manager.FontProperties(fname=font_path).get_name()\n",
    "rc('font', family=font)\n",
    "\n",
    "for i in range(len(mac_star_visual)):\n",
    "    plt.subplot(int('24'+str(i+1))).set_title(macs[i])\n",
    "    mac_star_visual[i].plot.bar()\n",
    "    mac_star_visual[i].plot.bar(grid = True, figsize = (15, 10), fontsize = 12)"
   ]
  }
 ],
 "metadata": {
  "kernelspec": {
   "display_name": "Python 3 (ipykernel)",
   "language": "python",
   "name": "python3"
  },
  "language_info": {
   "codemirror_mode": {
    "name": "ipython",
    "version": 3
   },
   "file_extension": ".py",
   "mimetype": "text/x-python",
   "name": "python",
   "nbconvert_exporter": "python",
   "pygments_lexer": "ipython3",
   "version": "3.8.12"
  }
 },
 "nbformat": 4,
 "nbformat_minor": 5
}
