{
 "cells": [
  {
   "cell_type": "code",
   "execution_count": 1,
   "id": "a3315030",
   "metadata": {},
   "outputs": [],
   "source": [
    "import pandas as pd"
   ]
  },
  {
   "cell_type": "code",
   "execution_count": 7,
   "id": "1b584e35",
   "metadata": {},
   "outputs": [],
   "source": [
    "df = pd.read_csv(\"output1.csv\")"
   ]
  },
  {
   "cell_type": "code",
   "execution_count": 10,
   "id": "bf857ce8",
   "metadata": {},
   "outputs": [
    {
     "data": {
      "text/plain": [
       "(1904, 4)"
      ]
     },
     "execution_count": 10,
     "metadata": {},
     "output_type": "execute_result"
    }
   ],
   "source": [
    "df.shape"
   ]
  },
  {
   "cell_type": "markdown",
   "id": "4ba69f02",
   "metadata": {},
   "source": [
    "## To-do list\n",
    "\n",
    "- 전처리\n",
    "- 특수문자, 불용어 제거\n",
    "- 동사 기본화\n",
    "- 긍정 부정 문자 구별(라벨을 별점으로?)\n",
    "- 워드클라우드"
   ]
  },
  {
   "cell_type": "code",
   "execution_count": 12,
   "id": "84e322c1",
   "metadata": {},
   "outputs": [
    {
     "data": {
      "text/html": [
       "<div>\n",
       "<style scoped>\n",
       "    .dataframe tbody tr th:only-of-type {\n",
       "        vertical-align: middle;\n",
       "    }\n",
       "\n",
       "    .dataframe tbody tr th {\n",
       "        vertical-align: top;\n",
       "    }\n",
       "\n",
       "    .dataframe thead th {\n",
       "        text-align: right;\n",
       "    }\n",
       "</style>\n",
       "<table border=\"1\" class=\"dataframe\">\n",
       "  <thead>\n",
       "    <tr style=\"text-align: right;\">\n",
       "      <th></th>\n",
       "      <th>type</th>\n",
       "      <th>category</th>\n",
       "      <th>review</th>\n",
       "      <th>star</th>\n",
       "    </tr>\n",
       "  </thead>\n",
       "  <tbody>\n",
       "    <tr>\n",
       "      <th>0</th>\n",
       "      <td>macbook air m1 256 8 실버</td>\n",
       "      <td>전체</td>\n",
       "      <td>이번 M1은 정말 물건입니다.\\n기존 2019 맥북프로 고급형 16인치 사용하고 있...</td>\n",
       "      <td>평점5</td>\n",
       "    </tr>\n",
       "    <tr>\n",
       "      <th>1</th>\n",
       "      <td>macbook air m1 256 8 실버</td>\n",
       "      <td>전체</td>\n",
       "      <td>장점이 많은 M1제품. 2017년형 맥북프로 13인치 사용중이였는데 훨씬 낫네요. ...</td>\n",
       "      <td>평점5</td>\n",
       "    </tr>\n",
       "    <tr>\n",
       "      <th>2</th>\n",
       "      <td>macbook air m1 256 8 실버</td>\n",
       "      <td>전체</td>\n",
       "      <td>한 4일 써보고 리뷰 남깁니다.\\n진짜 하루라도 빨리 살 걸 후회합니다.\\n팬리스로...</td>\n",
       "      <td>평점5</td>\n",
       "    </tr>\n",
       "    <tr>\n",
       "      <th>3</th>\n",
       "      <td>macbook air m1 256 8 실버</td>\n",
       "      <td>전체</td>\n",
       "      <td>솔직히 첨엔 이쁜 거 '디자인' 보고 사고 싶단 생각을 하기 시작했는데요ㅎㅎㅎ(애플...</td>\n",
       "      <td>평점5</td>\n",
       "    </tr>\n",
       "    <tr>\n",
       "      <th>4</th>\n",
       "      <td>macbook air m1 256 8 실버</td>\n",
       "      <td>전체</td>\n",
       "      <td>배송이 조금 늦은감이 있었지만 상품은 아주 기다리고 기대했던 만큼 최고네요아이폰 아...</td>\n",
       "      <td>평점5</td>\n",
       "    </tr>\n",
       "  </tbody>\n",
       "</table>\n",
       "</div>"
      ],
      "text/plain": [
       "                      type category  \\\n",
       "0  macbook air m1 256 8 실버       전체   \n",
       "1  macbook air m1 256 8 실버       전체   \n",
       "2  macbook air m1 256 8 실버       전체   \n",
       "3  macbook air m1 256 8 실버       전체   \n",
       "4  macbook air m1 256 8 실버       전체   \n",
       "\n",
       "                                              review star  \n",
       "0  이번 M1은 정말 물건입니다.\\n기존 2019 맥북프로 고급형 16인치 사용하고 있...  평점5  \n",
       "1  장점이 많은 M1제품. 2017년형 맥북프로 13인치 사용중이였는데 훨씬 낫네요. ...  평점5  \n",
       "2  한 4일 써보고 리뷰 남깁니다.\\n진짜 하루라도 빨리 살 걸 후회합니다.\\n팬리스로...  평점5  \n",
       "3  솔직히 첨엔 이쁜 거 '디자인' 보고 사고 싶단 생각을 하기 시작했는데요ㅎㅎㅎ(애플...  평점5  \n",
       "4  배송이 조금 늦은감이 있었지만 상품은 아주 기다리고 기대했던 만큼 최고네요아이폰 아...  평점5  "
      ]
     },
     "execution_count": 12,
     "metadata": {},
     "output_type": "execute_result"
    }
   ],
   "source": [
    "df.head()"
   ]
  },
  {
   "cell_type": "code",
   "execution_count": 14,
   "id": "5100544d",
   "metadata": {},
   "outputs": [],
   "source": [
    "rev = df['review']"
   ]
  },
  {
   "cell_type": "code",
   "execution_count": 15,
   "id": "96351a6d",
   "metadata": {},
   "outputs": [
    {
     "data": {
      "text/plain": [
       "0       이번 M1은 정말 물건입니다.\\n기존 2019 맥북프로 고급형 16인치 사용하고 있...\n",
       "1       장점이 많은 M1제품. 2017년형 맥북프로 13인치 사용중이였는데 훨씬 낫네요. ...\n",
       "2       한 4일 써보고 리뷰 남깁니다.\\n진짜 하루라도 빨리 살 걸 후회합니다.\\n팬리스로...\n",
       "3       솔직히 첨엔 이쁜 거 '디자인' 보고 사고 싶단 생각을 하기 시작했는데요ㅎㅎㅎ(애플...\n",
       "4       배송이 조금 늦은감이 있었지만 상품은 아주 기다리고 기대했던 만큼 최고네요아이폰 아...\n",
       "                              ...                        \n",
       "1899    배송 총알이네여 ㅎㅎ 판매자님 감사합니다 포장꼼꼼히와서 좋아요 제품 이상없이 잘왔습...\n",
       "1900                                          6.32228E+15\n",
       "1901                                맥북은 맥북이다 엠1은 역대급 맥북이다\n",
       "1902                                감사합니다. 잘받았습니다. 감사합니다.\n",
       "1903                                         좋아요좋아요좋아요좋아요\n",
       "Name: review, Length: 1904, dtype: object"
      ]
     },
     "execution_count": 15,
     "metadata": {},
     "output_type": "execute_result"
    }
   ],
   "source": [
    "rev"
   ]
  },
  {
   "cell_type": "markdown",
   "id": "3e14588b",
   "metadata": {},
   "source": [
    "## 결측치 확인"
   ]
  },
  {
   "cell_type": "code",
   "execution_count": 16,
   "id": "8fe87181",
   "metadata": {},
   "outputs": [],
   "source": [
    "def check_missing_col(dataframe):\n",
    "    missing_col = []\n",
    "    for col in dataframe.columns:\n",
    "        missing_values = sum(dataframe[col].isna())\n",
    "        is_missing = True if missing_values >= 1 else False\n",
    "        if is_missing:\n",
    "            print(f'결측치가 있는 컬럼은: {col} 입니다')\n",
    "            print(f'해당 컬럼에 총 {missing_values} 개의 결측치가 존재합니다')\n",
    "            missing_col.append([col, dataframe[col].dtype])\n",
    "    if missing_col == []:\n",
    "        print('결측치가 존재하지 않습니다')\n",
    "    return missing_col"
   ]
  },
  {
   "cell_type": "code",
   "execution_count": 17,
   "id": "6df44be4",
   "metadata": {},
   "outputs": [
    {
     "name": "stdout",
     "output_type": "stream",
     "text": [
      "결측치가 존재하지 않습니다\n"
     ]
    }
   ],
   "source": [
    "missing_col = check_missing_col(df)"
   ]
  },
  {
   "cell_type": "markdown",
   "id": "b0c6c706",
   "metadata": {},
   "source": [
    "## 데이터 정제하기\n",
    "- 한글과 공백을 제외하고 모두 제거\n",
    "- 다중 공백 제거"
   ]
  },
  {
   "cell_type": "code",
   "execution_count": 21,
   "id": "92ccaed0",
   "metadata": {},
   "outputs": [
    {
     "data": {
      "text/html": [
       "<div>\n",
       "<style scoped>\n",
       "    .dataframe tbody tr th:only-of-type {\n",
       "        vertical-align: middle;\n",
       "    }\n",
       "\n",
       "    .dataframe tbody tr th {\n",
       "        vertical-align: top;\n",
       "    }\n",
       "\n",
       "    .dataframe thead th {\n",
       "        text-align: right;\n",
       "    }\n",
       "</style>\n",
       "<table border=\"1\" class=\"dataframe\">\n",
       "  <thead>\n",
       "    <tr style=\"text-align: right;\">\n",
       "      <th></th>\n",
       "      <th>type</th>\n",
       "      <th>category</th>\n",
       "      <th>review</th>\n",
       "      <th>star</th>\n",
       "      <th>preprocessed</th>\n",
       "    </tr>\n",
       "  </thead>\n",
       "  <tbody>\n",
       "    <tr>\n",
       "      <th>0</th>\n",
       "      <td>macbook air m1 256 8 실버</td>\n",
       "      <td>전체</td>\n",
       "      <td>이번 M1은 정말 물건입니다.\\n기존 2019 맥북프로 고급형 16인치 사용하고 있...</td>\n",
       "      <td>평점5</td>\n",
       "      <td>이번 은 정말 물건입니다기존  맥북프로 고급형 인치 사용하고 있었는데 가벼운 작업이...</td>\n",
       "    </tr>\n",
       "    <tr>\n",
       "      <th>1</th>\n",
       "      <td>macbook air m1 256 8 실버</td>\n",
       "      <td>전체</td>\n",
       "      <td>장점이 많은 M1제품. 2017년형 맥북프로 13인치 사용중이였는데 훨씬 낫네요. ...</td>\n",
       "      <td>평점5</td>\n",
       "      <td>장점이 많은 제품 년형 맥북프로 인치 사용중이였는데 훨씬 낫네요 에어인데도 불구하고...</td>\n",
       "    </tr>\n",
       "    <tr>\n",
       "      <th>2</th>\n",
       "      <td>macbook air m1 256 8 실버</td>\n",
       "      <td>전체</td>\n",
       "      <td>한 4일 써보고 리뷰 남깁니다.\\n진짜 하루라도 빨리 살 걸 후회합니다.\\n팬리스로...</td>\n",
       "      <td>평점5</td>\n",
       "      <td>한 일 써보고 리뷰 남깁니다진짜 하루라도 빨리 살 걸 후회합니다팬리스로 소음도 전혀...</td>\n",
       "    </tr>\n",
       "    <tr>\n",
       "      <th>3</th>\n",
       "      <td>macbook air m1 256 8 실버</td>\n",
       "      <td>전체</td>\n",
       "      <td>솔직히 첨엔 이쁜 거 '디자인' 보고 사고 싶단 생각을 하기 시작했는데요ㅎㅎㅎ(애플...</td>\n",
       "      <td>평점5</td>\n",
       "      <td>솔직히 첨엔 이쁜 거 디자인 보고 사고 싶단 생각을 하기 시작했는데요ㅎㅎㅎ애플 로고...</td>\n",
       "    </tr>\n",
       "    <tr>\n",
       "      <th>4</th>\n",
       "      <td>macbook air m1 256 8 실버</td>\n",
       "      <td>전체</td>\n",
       "      <td>배송이 조금 늦은감이 있었지만 상품은 아주 기다리고 기대했던 만큼 최고네요아이폰 아...</td>\n",
       "      <td>평점5</td>\n",
       "      <td>배송이 조금 늦은감이 있었지만 상품은 아주 기다리고 기대했던 만큼 최고네요아이폰 아...</td>\n",
       "    </tr>\n",
       "  </tbody>\n",
       "</table>\n",
       "</div>"
      ],
      "text/plain": [
       "                      type category  \\\n",
       "0  macbook air m1 256 8 실버       전체   \n",
       "1  macbook air m1 256 8 실버       전체   \n",
       "2  macbook air m1 256 8 실버       전체   \n",
       "3  macbook air m1 256 8 실버       전체   \n",
       "4  macbook air m1 256 8 실버       전체   \n",
       "\n",
       "                                              review star  \\\n",
       "0  이번 M1은 정말 물건입니다.\\n기존 2019 맥북프로 고급형 16인치 사용하고 있...  평점5   \n",
       "1  장점이 많은 M1제품. 2017년형 맥북프로 13인치 사용중이였는데 훨씬 낫네요. ...  평점5   \n",
       "2  한 4일 써보고 리뷰 남깁니다.\\n진짜 하루라도 빨리 살 걸 후회합니다.\\n팬리스로...  평점5   \n",
       "3  솔직히 첨엔 이쁜 거 '디자인' 보고 사고 싶단 생각을 하기 시작했는데요ㅎㅎㅎ(애플...  평점5   \n",
       "4  배송이 조금 늦은감이 있었지만 상품은 아주 기다리고 기대했던 만큼 최고네요아이폰 아...  평점5   \n",
       "\n",
       "                                        preprocessed  \n",
       "0  이번 은 정말 물건입니다기존  맥북프로 고급형 인치 사용하고 있었는데 가벼운 작업이...  \n",
       "1  장점이 많은 제품 년형 맥북프로 인치 사용중이였는데 훨씬 낫네요 에어인데도 불구하고...  \n",
       "2  한 일 써보고 리뷰 남깁니다진짜 하루라도 빨리 살 걸 후회합니다팬리스로 소음도 전혀...  \n",
       "3  솔직히 첨엔 이쁜 거 디자인 보고 사고 싶단 생각을 하기 시작했는데요ㅎㅎㅎ애플 로고...  \n",
       "4  배송이 조금 늦은감이 있었지만 상품은 아주 기다리고 기대했던 만큼 최고네요아이폰 아...  "
      ]
     },
     "execution_count": 21,
     "metadata": {},
     "output_type": "execute_result"
    }
   ],
   "source": [
    "# 한글과 공백을 제외하고 모두 제거\n",
    "df['preprocessed'] = df['review'].str.replace(\"[^ㄱ-ㅎㅏ-ㅣ가-힣 ]\",\"\", regex = True)\n",
    "df[:5]"
   ]
  },
  {
   "cell_type": "code",
   "execution_count": 24,
   "id": "3ba82056",
   "metadata": {},
   "outputs": [
    {
     "data": {
      "text/html": [
       "<div>\n",
       "<style scoped>\n",
       "    .dataframe tbody tr th:only-of-type {\n",
       "        vertical-align: middle;\n",
       "    }\n",
       "\n",
       "    .dataframe tbody tr th {\n",
       "        vertical-align: top;\n",
       "    }\n",
       "\n",
       "    .dataframe thead th {\n",
       "        text-align: right;\n",
       "    }\n",
       "</style>\n",
       "<table border=\"1\" class=\"dataframe\">\n",
       "  <thead>\n",
       "    <tr style=\"text-align: right;\">\n",
       "      <th></th>\n",
       "      <th>type</th>\n",
       "      <th>category</th>\n",
       "      <th>review</th>\n",
       "      <th>star</th>\n",
       "      <th>preprocessed</th>\n",
       "    </tr>\n",
       "  </thead>\n",
       "  <tbody>\n",
       "    <tr>\n",
       "      <th>0</th>\n",
       "      <td>macbook air m1 256 8 실버</td>\n",
       "      <td>전체</td>\n",
       "      <td>이번 M1은 정말 물건입니다.\\n기존 2019 맥북프로 고급형 16인치 사용하고 있...</td>\n",
       "      <td>평점5</td>\n",
       "      <td>이번 은 정말 물건입니다기존 맥북프로 고급형 인치 사용하고 있었는데 가벼운 작업이나...</td>\n",
       "    </tr>\n",
       "    <tr>\n",
       "      <th>1</th>\n",
       "      <td>macbook air m1 256 8 실버</td>\n",
       "      <td>전체</td>\n",
       "      <td>장점이 많은 M1제품. 2017년형 맥북프로 13인치 사용중이였는데 훨씬 낫네요. ...</td>\n",
       "      <td>평점5</td>\n",
       "      <td>장점이 많은 제품 년형 맥북프로 인치 사용중이였는데 훨씬 낫네요 에어인데도 불구하고...</td>\n",
       "    </tr>\n",
       "    <tr>\n",
       "      <th>2</th>\n",
       "      <td>macbook air m1 256 8 실버</td>\n",
       "      <td>전체</td>\n",
       "      <td>한 4일 써보고 리뷰 남깁니다.\\n진짜 하루라도 빨리 살 걸 후회합니다.\\n팬리스로...</td>\n",
       "      <td>평점5</td>\n",
       "      <td>한 일 써보고 리뷰 남깁니다진짜 하루라도 빨리 살 걸 후회합니다팬리스로 소음도 전혀...</td>\n",
       "    </tr>\n",
       "    <tr>\n",
       "      <th>3</th>\n",
       "      <td>macbook air m1 256 8 실버</td>\n",
       "      <td>전체</td>\n",
       "      <td>솔직히 첨엔 이쁜 거 '디자인' 보고 사고 싶단 생각을 하기 시작했는데요ㅎㅎㅎ(애플...</td>\n",
       "      <td>평점5</td>\n",
       "      <td>솔직히 첨엔 이쁜 거 디자인 보고 사고 싶단 생각을 하기 시작했는데요ㅎㅎㅎ애플 로고...</td>\n",
       "    </tr>\n",
       "    <tr>\n",
       "      <th>4</th>\n",
       "      <td>macbook air m1 256 8 실버</td>\n",
       "      <td>전체</td>\n",
       "      <td>배송이 조금 늦은감이 있었지만 상품은 아주 기다리고 기대했던 만큼 최고네요아이폰 아...</td>\n",
       "      <td>평점5</td>\n",
       "      <td>배송이 조금 늦은감이 있었지만 상품은 아주 기다리고 기대했던 만큼 최고네요아이폰 아...</td>\n",
       "    </tr>\n",
       "  </tbody>\n",
       "</table>\n",
       "</div>"
      ],
      "text/plain": [
       "                      type category  \\\n",
       "0  macbook air m1 256 8 실버       전체   \n",
       "1  macbook air m1 256 8 실버       전체   \n",
       "2  macbook air m1 256 8 실버       전체   \n",
       "3  macbook air m1 256 8 실버       전체   \n",
       "4  macbook air m1 256 8 실버       전체   \n",
       "\n",
       "                                              review star  \\\n",
       "0  이번 M1은 정말 물건입니다.\\n기존 2019 맥북프로 고급형 16인치 사용하고 있...  평점5   \n",
       "1  장점이 많은 M1제품. 2017년형 맥북프로 13인치 사용중이였는데 훨씬 낫네요. ...  평점5   \n",
       "2  한 4일 써보고 리뷰 남깁니다.\\n진짜 하루라도 빨리 살 걸 후회합니다.\\n팬리스로...  평점5   \n",
       "3  솔직히 첨엔 이쁜 거 '디자인' 보고 사고 싶단 생각을 하기 시작했는데요ㅎㅎㅎ(애플...  평점5   \n",
       "4  배송이 조금 늦은감이 있었지만 상품은 아주 기다리고 기대했던 만큼 최고네요아이폰 아...  평점5   \n",
       "\n",
       "                                        preprocessed  \n",
       "0  이번 은 정말 물건입니다기존 맥북프로 고급형 인치 사용하고 있었는데 가벼운 작업이나...  \n",
       "1  장점이 많은 제품 년형 맥북프로 인치 사용중이였는데 훨씬 낫네요 에어인데도 불구하고...  \n",
       "2  한 일 써보고 리뷰 남깁니다진짜 하루라도 빨리 살 걸 후회합니다팬리스로 소음도 전혀...  \n",
       "3  솔직히 첨엔 이쁜 거 디자인 보고 사고 싶단 생각을 하기 시작했는데요ㅎㅎㅎ애플 로고...  \n",
       "4  배송이 조금 늦은감이 있었지만 상품은 아주 기다리고 기대했던 만큼 최고네요아이폰 아...  "
      ]
     },
     "execution_count": 24,
     "metadata": {},
     "output_type": "execute_result"
    }
   ],
   "source": [
    "# 다중 공백 제거\n",
    "df['preprocessed'] = df['preprocessed'].str.replace(\" +\", \" \", regex = True) \n",
    "df[:5]"
   ]
  },
  {
   "cell_type": "markdown",
   "id": "a20a5e30",
   "metadata": {},
   "source": [
    "## 한국에서의 토큰화\n",
    "- 동사를 기본화 하는 과정\n",
    "- 해볼까\" -> \"해보다\"\n",
    "- \"힘내서\" -> \"힘내다\"\n",
    "- \"됩시다\" -> \"되다\""
   ]
  },
  {
   "cell_type": "code",
   "execution_count": 25,
   "id": "bd8df703",
   "metadata": {},
   "outputs": [],
   "source": [
    "from konlpy.tag import Okt"
   ]
  },
  {
   "cell_type": "code",
   "execution_count": 26,
   "id": "fd3e0c59",
   "metadata": {},
   "outputs": [
    {
     "name": "stdout",
     "output_type": "stream",
     "text": [
      "한국어 형태소 분석 결과(어간 추출X) ==> ['오늘', '도', '열심히', '코딩', '을', '해볼까', '요', '?', '같이', '힘내서', '자연어', '처리', '고수', '가', '됩시다', '!', 'ㅎㅎ']\n",
      "한국어 형태소 분석 결과(어간 추출O) ==> ['오늘', '도', '열심히', '코딩', '을', '해보다', '요', '?', '같이', '힘내다', '자연어', '처리', '고수', '가', '되다', '!', 'ㅎㅎ']\n"
     ]
    }
   ],
   "source": [
    "han_sentence = \"오늘도 열심히 코딩을 해볼까요? 같이 힘내서 자연어 처리 고수가 됩시다! ㅎㅎ\"\n",
    "okt = Okt()\n",
    "print(\"한국어 형태소 분석 결과(어간 추출X) ==>\", okt.morphs(han_sentence, stem = False)) # 형태소 단위로 분리\n",
    "print(\"한국어 형태소 분석 결과(어간 추출O) ==>\", okt.morphs(han_sentence, stem = True)) # 형태소 단위로 분리 후 어간 추출"
   ]
  },
  {
   "cell_type": "code",
   "execution_count": 28,
   "id": "d6320f74",
   "metadata": {},
   "outputs": [
    {
     "name": "stdout",
     "output_type": "stream",
     "text": [
      "오늘 도 열심히 코딩 을 해보다 요 ? 같이 힘내다 자연어 처리 고수 가 되다 ! ㅎㅎ\n"
     ]
    }
   ],
   "source": [
    "han_sen = okt.morphs(han_sentence, stem = True)\n",
    "print(\" \".join(han_sen))"
   ]
  },
  {
   "cell_type": "markdown",
   "id": "737816eb",
   "metadata": {},
   "source": [
    "- 동사를 기본화 적용"
   ]
  },
  {
   "cell_type": "code",
   "execution_count": 29,
   "id": "a94418b5",
   "metadata": {},
   "outputs": [],
   "source": [
    "tokenized  = []\n",
    "for sentence in df['preprocessed']: \n",
    "    tokens = okt.morphs(sentence, stem = True)\n",
    "    tokenize  = \" \".join(tokens)\n",
    "    tokenized.append(tokenize)"
   ]
  },
  {
   "cell_type": "code",
   "execution_count": 30,
   "id": "c8f14d10",
   "metadata": {},
   "outputs": [],
   "source": [
    "df['tokenized_stem'] = pd.DataFrame(tokenized)"
   ]
  },
  {
   "cell_type": "code",
   "execution_count": 32,
   "id": "dab32fee",
   "metadata": {},
   "outputs": [
    {
     "data": {
      "text/html": [
       "<div>\n",
       "<style scoped>\n",
       "    .dataframe tbody tr th:only-of-type {\n",
       "        vertical-align: middle;\n",
       "    }\n",
       "\n",
       "    .dataframe tbody tr th {\n",
       "        vertical-align: top;\n",
       "    }\n",
       "\n",
       "    .dataframe thead th {\n",
       "        text-align: right;\n",
       "    }\n",
       "</style>\n",
       "<table border=\"1\" class=\"dataframe\">\n",
       "  <thead>\n",
       "    <tr style=\"text-align: right;\">\n",
       "      <th></th>\n",
       "      <th>type</th>\n",
       "      <th>category</th>\n",
       "      <th>review</th>\n",
       "      <th>star</th>\n",
       "      <th>preprocessed</th>\n",
       "      <th>tokenized_stem</th>\n",
       "    </tr>\n",
       "  </thead>\n",
       "  <tbody>\n",
       "    <tr>\n",
       "      <th>0</th>\n",
       "      <td>macbook air m1 256 8 실버</td>\n",
       "      <td>전체</td>\n",
       "      <td>이번 M1은 정말 물건입니다.\\n기존 2019 맥북프로 고급형 16인치 사용하고 있...</td>\n",
       "      <td>평점5</td>\n",
       "      <td>이번 은 정말 물건입니다기존 맥북프로 고급형 인치 사용하고 있었는데 가벼운 작업이나...</td>\n",
       "      <td>이번 은 정말 물건 이다 기존 맥북프로 고급 형 인치 사용 하고 있다 가볍다 작업 ...</td>\n",
       "    </tr>\n",
       "    <tr>\n",
       "      <th>1</th>\n",
       "      <td>macbook air m1 256 8 실버</td>\n",
       "      <td>전체</td>\n",
       "      <td>장점이 많은 M1제품. 2017년형 맥북프로 13인치 사용중이였는데 훨씬 낫네요. ...</td>\n",
       "      <td>평점5</td>\n",
       "      <td>장점이 많은 제품 년형 맥북프로 인치 사용중이였는데 훨씬 낫네요 에어인데도 불구하고...</td>\n",
       "      <td>장점 이 많다 제품 년 형 맥북프로 인치 사용 중 이 이다 훨씬 낫다 에어 인데 도...</td>\n",
       "    </tr>\n",
       "    <tr>\n",
       "      <th>2</th>\n",
       "      <td>macbook air m1 256 8 실버</td>\n",
       "      <td>전체</td>\n",
       "      <td>한 4일 써보고 리뷰 남깁니다.\\n진짜 하루라도 빨리 살 걸 후회합니다.\\n팬리스로...</td>\n",
       "      <td>평점5</td>\n",
       "      <td>한 일 써보고 리뷰 남깁니다진짜 하루라도 빨리 살 걸 후회합니다팬리스로 소음도 전혀...</td>\n",
       "      <td>하다 일 써다 보고 리뷰 남기다 진짜 하루 라도 빨리 살 걸 후회 하다 팬리스 로 ...</td>\n",
       "    </tr>\n",
       "    <tr>\n",
       "      <th>3</th>\n",
       "      <td>macbook air m1 256 8 실버</td>\n",
       "      <td>전체</td>\n",
       "      <td>솔직히 첨엔 이쁜 거 '디자인' 보고 사고 싶단 생각을 하기 시작했는데요ㅎㅎㅎ(애플...</td>\n",
       "      <td>평점5</td>\n",
       "      <td>솔직히 첨엔 이쁜 거 디자인 보고 사고 싶단 생각을 하기 시작했는데요ㅎㅎㅎ애플 로고...</td>\n",
       "      <td>솔직하다 첨 엔 이쁘다 거 디자인 보고 사고 싶다 생각 을 하다 시작 하다 ㅎㅎㅎ ...</td>\n",
       "    </tr>\n",
       "    <tr>\n",
       "      <th>4</th>\n",
       "      <td>macbook air m1 256 8 실버</td>\n",
       "      <td>전체</td>\n",
       "      <td>배송이 조금 늦은감이 있었지만 상품은 아주 기다리고 기대했던 만큼 최고네요아이폰 아...</td>\n",
       "      <td>평점5</td>\n",
       "      <td>배송이 조금 늦은감이 있었지만 상품은 아주 기다리고 기대했던 만큼 최고네요아이폰 아...</td>\n",
       "      <td>배송 이 조금 늦 은감 이 있다 상품 은 아주 기다리다 기대하다 만큼 최고 네 요 ...</td>\n",
       "    </tr>\n",
       "  </tbody>\n",
       "</table>\n",
       "</div>"
      ],
      "text/plain": [
       "                      type category  \\\n",
       "0  macbook air m1 256 8 실버       전체   \n",
       "1  macbook air m1 256 8 실버       전체   \n",
       "2  macbook air m1 256 8 실버       전체   \n",
       "3  macbook air m1 256 8 실버       전체   \n",
       "4  macbook air m1 256 8 실버       전체   \n",
       "\n",
       "                                              review star  \\\n",
       "0  이번 M1은 정말 물건입니다.\\n기존 2019 맥북프로 고급형 16인치 사용하고 있...  평점5   \n",
       "1  장점이 많은 M1제품. 2017년형 맥북프로 13인치 사용중이였는데 훨씬 낫네요. ...  평점5   \n",
       "2  한 4일 써보고 리뷰 남깁니다.\\n진짜 하루라도 빨리 살 걸 후회합니다.\\n팬리스로...  평점5   \n",
       "3  솔직히 첨엔 이쁜 거 '디자인' 보고 사고 싶단 생각을 하기 시작했는데요ㅎㅎㅎ(애플...  평점5   \n",
       "4  배송이 조금 늦은감이 있었지만 상품은 아주 기다리고 기대했던 만큼 최고네요아이폰 아...  평점5   \n",
       "\n",
       "                                        preprocessed  \\\n",
       "0  이번 은 정말 물건입니다기존 맥북프로 고급형 인치 사용하고 있었는데 가벼운 작업이나...   \n",
       "1  장점이 많은 제품 년형 맥북프로 인치 사용중이였는데 훨씬 낫네요 에어인데도 불구하고...   \n",
       "2  한 일 써보고 리뷰 남깁니다진짜 하루라도 빨리 살 걸 후회합니다팬리스로 소음도 전혀...   \n",
       "3  솔직히 첨엔 이쁜 거 디자인 보고 사고 싶단 생각을 하기 시작했는데요ㅎㅎㅎ애플 로고...   \n",
       "4  배송이 조금 늦은감이 있었지만 상품은 아주 기다리고 기대했던 만큼 최고네요아이폰 아...   \n",
       "\n",
       "                                      tokenized_stem  \n",
       "0  이번 은 정말 물건 이다 기존 맥북프로 고급 형 인치 사용 하고 있다 가볍다 작업 ...  \n",
       "1  장점 이 많다 제품 년 형 맥북프로 인치 사용 중 이 이다 훨씬 낫다 에어 인데 도...  \n",
       "2  하다 일 써다 보고 리뷰 남기다 진짜 하루 라도 빨리 살 걸 후회 하다 팬리스 로 ...  \n",
       "3  솔직하다 첨 엔 이쁘다 거 디자인 보고 사고 싶다 생각 을 하다 시작 하다 ㅎㅎㅎ ...  \n",
       "4  배송 이 조금 늦 은감 이 있다 상품 은 아주 기다리다 기대하다 만큼 최고 네 요 ...  "
      ]
     },
     "execution_count": 32,
     "metadata": {},
     "output_type": "execute_result"
    }
   ],
   "source": [
    "df[:5]"
   ]
  },
  {
   "cell_type": "markdown",
   "id": "2fc0c8df",
   "metadata": {},
   "source": [
    "- 품사 태깅\n",
    "- okt의 pos 함수만을 이용해 토큰화와 품사 태깅을 한번에 할 수 있다"
   ]
  },
  {
   "cell_type": "code",
   "execution_count": 33,
   "id": "ce97c29c",
   "metadata": {},
   "outputs": [
    {
     "name": "stdout",
     "output_type": "stream",
     "text": [
      "[('오늘', 'Noun'), ('도', 'Josa'), ('열심히', 'Adverb'), ('재밌는', 'Adjective'), ('코딩', 'Noun'), ('을', 'Josa'), ('해볼까', 'Verb'), ('?', 'Punctuation'), ('같이', 'Adverb'), ('힘내서', 'Verb'), ('자연어', 'Noun'), ('처리', 'Noun'), ('고수', 'Noun'), ('들', 'Suffix'), ('이', 'Josa'), ('됩시다', 'Verb'), ('!', 'Punctuation'), ('ㅎㅎ', 'KoreanParticle')]\n"
     ]
    }
   ],
   "source": [
    "# 품사 태깅\n",
    "print(okt.pos(\"오늘도 열심히 재밌는 코딩을 해볼까? 같이 힘내서 자연어 처리 고수들이 됩시다! ㅎㅎ\"))"
   ]
  },
  {
   "cell_type": "code",
   "execution_count": 34,
   "id": "59770c49",
   "metadata": {},
   "outputs": [
    {
     "name": "stdout",
     "output_type": "stream",
     "text": [
      "[('이', 'Determiner'), ('것', 'Noun'), ('은', 'Josa'), ('1', 'Number'), ('점', 'Noun'), ('이', 'Josa'), ('아니다', 'Adjective'), ('11', 'Number'), ('점', 'Noun'), ('을', 'Josa'), ('주고싶은', 'Verb'), ('내', 'Noun'), ('간절한', 'Adjective'), ('마음', 'Noun'), ('이다', 'Josa')]\n"
     ]
    }
   ],
   "source": [
    "print(okt.pos(\"이것은 1점이 아니다 11점을 주고싶은 내 간절한 마음이다\"))"
   ]
  },
  {
   "cell_type": "code",
   "execution_count": 35,
   "id": "3307d94c",
   "metadata": {},
   "outputs": [
    {
     "name": "stdout",
     "output_type": "stream",
     "text": [
      "['오늘', '코딩', '자연어', '처리', '고수']\n"
     ]
    }
   ],
   "source": [
    "print(okt.nouns(\"오늘도 열심히 재밌는 코딩을 해볼까? 같이 힘내서 자연어 처리 고수들이 됩시다! ㅎㅎ\"))"
   ]
  },
  {
   "cell_type": "code",
   "execution_count": 41,
   "id": "a371c4ec",
   "metadata": {},
   "outputs": [],
   "source": [
    "# 토큰화 한 것 --> 품사 태깅 \n",
    "main_pos = []\n",
    "for sentence in df['tokenized_stem']:\n",
    "    pos = okt.pos(sentence)\n",
    "    main_words = [word_pos[0] for word_pos in pos if word_pos[1] in (\"Noun\",\"Adverb\",\"Adjective\",\"Verb\")]\n",
    "    main_words_str = \" \".join(main_words)\n",
    "    main_pos.append(main_words_str)"
   ]
  },
  {
   "cell_type": "code",
   "execution_count": 42,
   "id": "1a0a4564",
   "metadata": {},
   "outputs": [],
   "source": [
    "df['main_pos'] = pd.DataFrame(main_pos)"
   ]
  },
  {
   "cell_type": "code",
   "execution_count": 43,
   "id": "acd82403",
   "metadata": {},
   "outputs": [
    {
     "data": {
      "text/html": [
       "<div>\n",
       "<style scoped>\n",
       "    .dataframe tbody tr th:only-of-type {\n",
       "        vertical-align: middle;\n",
       "    }\n",
       "\n",
       "    .dataframe tbody tr th {\n",
       "        vertical-align: top;\n",
       "    }\n",
       "\n",
       "    .dataframe thead th {\n",
       "        text-align: right;\n",
       "    }\n",
       "</style>\n",
       "<table border=\"1\" class=\"dataframe\">\n",
       "  <thead>\n",
       "    <tr style=\"text-align: right;\">\n",
       "      <th></th>\n",
       "      <th>type</th>\n",
       "      <th>category</th>\n",
       "      <th>review</th>\n",
       "      <th>star</th>\n",
       "      <th>preprocessed</th>\n",
       "      <th>tokenized_stem</th>\n",
       "      <th>main_pos</th>\n",
       "    </tr>\n",
       "  </thead>\n",
       "  <tbody>\n",
       "    <tr>\n",
       "      <th>0</th>\n",
       "      <td>macbook air m1 256 8 실버</td>\n",
       "      <td>전체</td>\n",
       "      <td>이번 M1은 정말 물건입니다.\\n기존 2019 맥북프로 고급형 16인치 사용하고 있...</td>\n",
       "      <td>평점5</td>\n",
       "      <td>이번 은 정말 물건입니다기존 맥북프로 고급형 인치 사용하고 있었는데 가벼운 작업이나...</td>\n",
       "      <td>이번 은 정말 물건 이다 기존 맥북프로 고급 형 인치 사용 하고 있다 가볍다 작업 ...</td>\n",
       "      <td>이번 은 정말 물건 기존 맥북프로 고급 형 인치 사용 하고 있다 가볍다 작업 이나 ...</td>\n",
       "    </tr>\n",
       "    <tr>\n",
       "      <th>1</th>\n",
       "      <td>macbook air m1 256 8 실버</td>\n",
       "      <td>전체</td>\n",
       "      <td>장점이 많은 M1제품. 2017년형 맥북프로 13인치 사용중이였는데 훨씬 낫네요. ...</td>\n",
       "      <td>평점5</td>\n",
       "      <td>장점이 많은 제품 년형 맥북프로 인치 사용중이였는데 훨씬 낫네요 에어인데도 불구하고...</td>\n",
       "      <td>장점 이 많다 제품 년 형 맥북프로 인치 사용 중 이 이다 훨씬 낫다 에어 인데 도...</td>\n",
       "      <td>장점 이 많다 제품 년 형 맥북프로 인치 사용 중 이 훨씬 낫다 에어 도 불구 하고...</td>\n",
       "    </tr>\n",
       "    <tr>\n",
       "      <th>2</th>\n",
       "      <td>macbook air m1 256 8 실버</td>\n",
       "      <td>전체</td>\n",
       "      <td>한 4일 써보고 리뷰 남깁니다.\\n진짜 하루라도 빨리 살 걸 후회합니다.\\n팬리스로...</td>\n",
       "      <td>평점5</td>\n",
       "      <td>한 일 써보고 리뷰 남깁니다진짜 하루라도 빨리 살 걸 후회합니다팬리스로 소음도 전혀...</td>\n",
       "      <td>하다 일 써다 보고 리뷰 남기다 진짜 하루 라도 빨리 살 걸 후회 하다 팬리스 로 ...</td>\n",
       "      <td>하다 일 써다 보고 리뷰 남기다 진짜 하루 빨리 살 걸 후회 하다 팬리스 로 소음 ...</td>\n",
       "    </tr>\n",
       "    <tr>\n",
       "      <th>3</th>\n",
       "      <td>macbook air m1 256 8 실버</td>\n",
       "      <td>전체</td>\n",
       "      <td>솔직히 첨엔 이쁜 거 '디자인' 보고 사고 싶단 생각을 하기 시작했는데요ㅎㅎㅎ(애플...</td>\n",
       "      <td>평점5</td>\n",
       "      <td>솔직히 첨엔 이쁜 거 디자인 보고 사고 싶단 생각을 하기 시작했는데요ㅎㅎㅎ애플 로고...</td>\n",
       "      <td>솔직하다 첨 엔 이쁘다 거 디자인 보고 사고 싶다 생각 을 하다 시작 하다 ㅎㅎㅎ ...</td>\n",
       "      <td>솔직하다 첨 이쁘다 거 디자인 보고 사고 싶다 생각 하다 시작 하다 애플 로고 진짜...</td>\n",
       "    </tr>\n",
       "    <tr>\n",
       "      <th>4</th>\n",
       "      <td>macbook air m1 256 8 실버</td>\n",
       "      <td>전체</td>\n",
       "      <td>배송이 조금 늦은감이 있었지만 상품은 아주 기다리고 기대했던 만큼 최고네요아이폰 아...</td>\n",
       "      <td>평점5</td>\n",
       "      <td>배송이 조금 늦은감이 있었지만 상품은 아주 기다리고 기대했던 만큼 최고네요아이폰 아...</td>\n",
       "      <td>배송 이 조금 늦 은감 이 있다 상품 은 아주 기다리다 기대하다 만큼 최고 네 요 ...</td>\n",
       "      <td>배송 이 조금 늦 은감 이 있다 상품 은 아주 기다리다 기대하다 만큼 최고 네 요 ...</td>\n",
       "    </tr>\n",
       "  </tbody>\n",
       "</table>\n",
       "</div>"
      ],
      "text/plain": [
       "                      type category  \\\n",
       "0  macbook air m1 256 8 실버       전체   \n",
       "1  macbook air m1 256 8 실버       전체   \n",
       "2  macbook air m1 256 8 실버       전체   \n",
       "3  macbook air m1 256 8 실버       전체   \n",
       "4  macbook air m1 256 8 실버       전체   \n",
       "\n",
       "                                              review star  \\\n",
       "0  이번 M1은 정말 물건입니다.\\n기존 2019 맥북프로 고급형 16인치 사용하고 있...  평점5   \n",
       "1  장점이 많은 M1제품. 2017년형 맥북프로 13인치 사용중이였는데 훨씬 낫네요. ...  평점5   \n",
       "2  한 4일 써보고 리뷰 남깁니다.\\n진짜 하루라도 빨리 살 걸 후회합니다.\\n팬리스로...  평점5   \n",
       "3  솔직히 첨엔 이쁜 거 '디자인' 보고 사고 싶단 생각을 하기 시작했는데요ㅎㅎㅎ(애플...  평점5   \n",
       "4  배송이 조금 늦은감이 있었지만 상품은 아주 기다리고 기대했던 만큼 최고네요아이폰 아...  평점5   \n",
       "\n",
       "                                        preprocessed  \\\n",
       "0  이번 은 정말 물건입니다기존 맥북프로 고급형 인치 사용하고 있었는데 가벼운 작업이나...   \n",
       "1  장점이 많은 제품 년형 맥북프로 인치 사용중이였는데 훨씬 낫네요 에어인데도 불구하고...   \n",
       "2  한 일 써보고 리뷰 남깁니다진짜 하루라도 빨리 살 걸 후회합니다팬리스로 소음도 전혀...   \n",
       "3  솔직히 첨엔 이쁜 거 디자인 보고 사고 싶단 생각을 하기 시작했는데요ㅎㅎㅎ애플 로고...   \n",
       "4  배송이 조금 늦은감이 있었지만 상품은 아주 기다리고 기대했던 만큼 최고네요아이폰 아...   \n",
       "\n",
       "                                      tokenized_stem  \\\n",
       "0  이번 은 정말 물건 이다 기존 맥북프로 고급 형 인치 사용 하고 있다 가볍다 작업 ...   \n",
       "1  장점 이 많다 제품 년 형 맥북프로 인치 사용 중 이 이다 훨씬 낫다 에어 인데 도...   \n",
       "2  하다 일 써다 보고 리뷰 남기다 진짜 하루 라도 빨리 살 걸 후회 하다 팬리스 로 ...   \n",
       "3  솔직하다 첨 엔 이쁘다 거 디자인 보고 사고 싶다 생각 을 하다 시작 하다 ㅎㅎㅎ ...   \n",
       "4  배송 이 조금 늦 은감 이 있다 상품 은 아주 기다리다 기대하다 만큼 최고 네 요 ...   \n",
       "\n",
       "                                            main_pos  \n",
       "0  이번 은 정말 물건 기존 맥북프로 고급 형 인치 사용 하고 있다 가볍다 작업 이나 ...  \n",
       "1  장점 이 많다 제품 년 형 맥북프로 인치 사용 중 이 훨씬 낫다 에어 도 불구 하고...  \n",
       "2  하다 일 써다 보고 리뷰 남기다 진짜 하루 빨리 살 걸 후회 하다 팬리스 로 소음 ...  \n",
       "3  솔직하다 첨 이쁘다 거 디자인 보고 사고 싶다 생각 하다 시작 하다 애플 로고 진짜...  \n",
       "4  배송 이 조금 늦 은감 이 있다 상품 은 아주 기다리다 기대하다 만큼 최고 네 요 ...  "
      ]
     },
     "execution_count": 43,
     "metadata": {},
     "output_type": "execute_result"
    }
   ],
   "source": [
    "df[:5]"
   ]
  },
  {
   "cell_type": "code",
   "execution_count": 44,
   "id": "21b96a86",
   "metadata": {},
   "outputs": [
    {
     "data": {
      "text/plain": [
       "'솔직하다 첨 엔 이쁘다 거 디자인 보고 사고 싶다 생각 을 하다 시작 하다 ㅎㅎㅎ 애플 로고 진짜 이쁘다 않다 하다 달 써다 보다 다른 면 에서도 진짜 장점 이 많다 배터리 가 진짜 짱짱하다 충전 은 가끔 씩 만 해주다 되다 충전 속도 도 빠르다 영화 같다 영상 물 을 자주 보다 화질 도 진짜 좋다 기본 스피커 가 진짜 짱짱하다 이 거 진짜 최고 블루투스 페어 링 속도 도 엄청 빠르다 그냥 하다 마디 로 쓰다 짜증나다 일이 없다 생기다 것 도 이쁘다 볼 때 마다 빨리 살 걸 이 생각 만 드네 요 구매 를 여름 쯤 부터 고민 하다 진짜 왜 고민 하다 싶다 고민 하다 분들 얼른 구매 하다'"
      ]
     },
     "execution_count": 44,
     "metadata": {},
     "output_type": "execute_result"
    }
   ],
   "source": [
    "df['tokenized_stem'][3]"
   ]
  },
  {
   "cell_type": "code",
   "execution_count": 45,
   "id": "4b715e7d",
   "metadata": {},
   "outputs": [
    {
     "data": {
      "text/plain": [
       "'솔직하다 첨 이쁘다 거 디자인 보고 사고 싶다 생각 하다 시작 하다 애플 로고 진짜 이쁘다 않다 하다 달 써다 보다 다른 면 진짜 장점 이 많다 배터리 가 진짜 짱짱하다 충전 은 가끔 씩 만 해주다 되다 충전 속도 도 빠르다 영화 같다 영상 물 자주 보다 화질 도 진짜 좋다 기본 스피커 가 진짜 짱짱하다 이 거 진짜 최고 블루투스 페어 링 속도 도 엄청 빠르다 그냥 하다 마디 로 쓰다 짜증나다 없다 생기 것 도 이쁘다 볼 때 마다 빨리 살 걸 이 생각 만 드 요 구매 를 여름 쯤 부터 고민 하다 진짜 왜 고민 하다 싶다 고민 하다 얼른 구매 하다'"
      ]
     },
     "execution_count": 45,
     "metadata": {},
     "output_type": "execute_result"
    }
   ],
   "source": [
    "df['main_pos'][3]"
   ]
  },
  {
   "cell_type": "code",
   "execution_count": null,
   "id": "11f21010",
   "metadata": {},
   "outputs": [],
   "source": [
    "# preprocessed --> \n",
    "main_pos = []\n",
    "for sentence in df['tokenized_stem']:\n",
    "    pos = okt.pos(sentence)\n",
    "    main_words = [word_pos[0] for word_pos in pos if word_pos[1] in (\"Noun\",\"Adverb\",\"Adjective\",\"Verb\")]\n",
    "    main_words_str = \" \".join(main_words)\n",
    "    main_pos.append(main_words_str)"
   ]
  },
  {
   "cell_type": "code",
   "execution_count": 49,
   "id": "2600f57c",
   "metadata": {},
   "outputs": [
    {
     "name": "stdout",
     "output_type": "stream",
     "text": [
      "Collecting openpyxl\n",
      "Note: you may need to restart the kernel to use updated packages.\n",
      "  Downloading openpyxl-3.0.9-py2.py3-none-any.whl (242 kB)\n",
      "Collecting et-xmlfile\n",
      "  Downloading et_xmlfile-1.1.0-py3-none-any.whl (4.7 kB)\n",
      "Installing collected packages: et-xmlfile, openpyxl\n",
      "Successfully installed et-xmlfile-1.1.0 openpyxl-3.0.9\n"
     ]
    }
   ],
   "source": [
    "pip install openpyxl"
   ]
  },
  {
   "cell_type": "code",
   "execution_count": 50,
   "id": "68a95938",
   "metadata": {},
   "outputs": [],
   "source": [
    "df.to_excel(\"Naver_Proprocessed.xlsx\", index = False, encoding = 'utf-8')"
   ]
  },
  {
   "cell_type": "code",
   "execution_count": null,
   "id": "9654f5a4",
   "metadata": {},
   "outputs": [],
   "source": []
  }
 ],
 "metadata": {
  "kernelspec": {
   "display_name": "Python 3 (ipykernel)",
   "language": "python",
   "name": "python3"
  },
  "language_info": {
   "codemirror_mode": {
    "name": "ipython",
    "version": 3
   },
   "file_extension": ".py",
   "mimetype": "text/x-python",
   "name": "python",
   "nbconvert_exporter": "python",
   "pygments_lexer": "ipython3",
   "version": "3.8.12"
  }
 },
 "nbformat": 4,
 "nbformat_minor": 5
}
